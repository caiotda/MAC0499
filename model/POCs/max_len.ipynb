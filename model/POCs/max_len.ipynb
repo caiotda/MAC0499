{
 "cells": [
  {
   "cell_type": "code",
   "execution_count": 1,
   "id": "bd5ea98a-aa2e-4b35-9dae-470f39588f74",
   "metadata": {},
   "outputs": [],
   "source": [
    "import sys\n",
    "\n",
    "sys.path.append('..') # Allows imports from parent folder"
   ]
  },
  {
   "cell_type": "code",
   "execution_count": 2,
   "id": "d31bc4f2-0036-4e1b-9cd3-ed0a1dea26ff",
   "metadata": {},
   "outputs": [],
   "source": [
    "from datasets import load_dataset\n",
    "from model import NERClassifier\n",
    "from preprocess_dataset import NERDataset \n",
    "from trainner import Trainner\n",
    "from transformers import BertTokenizer, BertTokenizerFast\n",
    "from preprocess_dataset import remove_empty_entries\n",
    "\n",
    "import torch"
   ]
  },
  {
   "cell_type": "code",
   "execution_count": 3,
   "id": "902daecc-f18c-4651-a4de-c869c0a23308",
   "metadata": {},
   "outputs": [],
   "source": [
    "CHECKPOINT = 'neuralmind/bert-base-portuguese-cased'\n",
    "tokenizer = BertTokenizerFast.from_pretrained(CHECKPOINT)"
   ]
  },
  {
   "cell_type": "code",
   "execution_count": 4,
   "id": "27e50730-b948-47a4-ac39-3c299871b8d0",
   "metadata": {},
   "outputs": [
    {
     "name": "stderr",
     "output_type": "stream",
     "text": [
      "Reusing dataset lener_br (/home/caiotulio/.cache/huggingface/datasets/lener_br/lener_br/1.0.0/4a8c97e6813b5c2d85a50faf0a3e6c24ea82f4a9044e6e9e8b24997d27399382)\n",
      "Loading cached processed dataset at /home/caiotulio/.cache/huggingface/datasets/lener_br/lener_br/1.0.0/4a8c97e6813b5c2d85a50faf0a3e6c24ea82f4a9044e6e9e8b24997d27399382/cache-5e59bc59f25f3d7f.arrow\n",
      "Loading cached processed dataset at /home/caiotulio/.cache/huggingface/datasets/lener_br/lener_br/1.0.0/4a8c97e6813b5c2d85a50faf0a3e6c24ea82f4a9044e6e9e8b24997d27399382/cache-8d0457760cd67ee6.arrow\n",
      "Loading cached processed dataset at /home/caiotulio/.cache/huggingface/datasets/lener_br/lener_br/1.0.0/4a8c97e6813b5c2d85a50faf0a3e6c24ea82f4a9044e6e9e8b24997d27399382/cache-74e841c1c151996a.arrow\n"
     ]
    }
   ],
   "source": [
    "data = \"lener_br\"\n",
    "dataset = load_dataset(data)\n",
    "dataset = remove_empty_entries(dataset)"
   ]
  },
  {
   "cell_type": "markdown",
   "id": "8d712e8e-ee39-4d78-9d4b-517661cc5898",
   "metadata": {},
   "source": [
    "## Hyperparameters"
   ]
  },
  {
   "cell_type": "code",
   "execution_count": 5,
   "id": "602849b9-3a13-46fb-95af-76f51f743713",
   "metadata": {},
   "outputs": [],
   "source": [
    "MAX_LENS = [64, 128, 256]\n",
    "LEARNING_RATE=3e-4\n",
    "n_labels = 13\n",
    "BATCH_SIZE=8\n",
    "shuffle=True\n",
    "NUM_EPOCHS=1\n",
    "device=torch.device(\"cuda\" if torch.cuda.is_available() else \"cpu\")"
   ]
  },
  {
   "cell_type": "markdown",
   "id": "2597b43d-aecf-4654-8f50-efcaa7695e83",
   "metadata": {},
   "source": [
    "## Training models with different sizes"
   ]
  },
  {
   "cell_type": "code",
   "execution_count": 6,
   "id": "b4f11821-70f9-4fae-9422-f54dde370564",
   "metadata": {},
   "outputs": [],
   "source": [
    "import pandas as pd\n",
    "from evaluator import Evaluator\n",
    "from torch.utils.data import DataLoader\n",
    "from transformers import AdamW"
   ]
  },
  {
   "cell_type": "code",
   "execution_count": 7,
   "id": "c6704abf-f9e4-494b-8d80-a18876bde94a",
   "metadata": {},
   "outputs": [
    {
     "name": "stdout",
     "output_type": "stream",
     "text": [
      "treinando para max_len=64\n"
     ]
    },
    {
     "name": "stderr",
     "output_type": "stream",
     "text": [
      "Some weights of the model checkpoint at neuralmind/bert-base-portuguese-cased were not used when initializing BertForTokenClassification: ['cls.predictions.transform.LayerNorm.bias', 'cls.predictions.decoder.weight', 'cls.seq_relationship.weight', 'cls.seq_relationship.bias', 'cls.predictions.bias', 'cls.predictions.transform.LayerNorm.weight', 'cls.predictions.transform.dense.bias', 'cls.predictions.transform.dense.weight']\n",
      "- This IS expected if you are initializing BertForTokenClassification from the checkpoint of a model trained on another task or with another architecture (e.g. initializing a BertForSequenceClassification model from a BertForPreTraining model).\n",
      "- This IS NOT expected if you are initializing BertForTokenClassification from the checkpoint of a model that you expect to be exactly identical (initializing a BertForSequenceClassification model from a BertForSequenceClassification model).\n",
      "Some weights of BertForTokenClassification were not initialized from the model checkpoint at neuralmind/bert-base-portuguese-cased and are newly initialized: ['classifier.bias', 'classifier.weight']\n",
      "You should probably TRAIN this model on a down-stream task to be able to use it for predictions and inference.\n"
     ]
    },
    {
     "name": "stdout",
     "output_type": "stream",
     "text": [
      "Trainner carregado!\n",
      "Começando treino! Essa função retorna a media de f1 e loss em cada epoch de treino e avaliação\n",
      "----------Começando treino da epoch nº 1\n",
      "Treinando em cuda\n",
      "Iteração 0 -------- Loss: 2.5514931678771973 f1 nas ultimas 100 iterações: 0.002414778659889781 ------ Progresso: 0.00%.\n",
      "Iteração 100 -------- Loss: 0.713729977607727 f1 nas ultimas 100 iterações: 0.7918494284851024 ------ Progresso: 10.21%.\n",
      "Iteração 200 -------- Loss: 0.7832715511322021 f1 nas ultimas 100 iterações: 0.8164738345297345 ------ Progresso: 20.43%.\n",
      "Iteração 300 -------- Loss: 1.158220648765564 f1 nas ultimas 100 iterações: 0.8198020743861129 ------ Progresso: 30.64%.\n",
      "Iteração 400 -------- Loss: 0.7940226197242737 f1 nas ultimas 100 iterações: 0.8101011789848783 ------ Progresso: 40.86%.\n",
      "Iteração 500 -------- Loss: 0.8869495391845703 f1 nas ultimas 100 iterações: 0.7983571905128422 ------ Progresso: 51.07%.\n",
      "Iteração 600 -------- Loss: 0.6622911691665649 f1 nas ultimas 100 iterações: 0.8101786743366375 ------ Progresso: 61.29%.\n",
      "Iteração 700 -------- Loss: 0.7097849249839783 f1 nas ultimas 100 iterações: 0.8174216649291468 ------ Progresso: 71.50%.\n",
      "Iteração 800 -------- Loss: 0.9252229928970337 f1 nas ultimas 100 iterações: 0.8070996156927569 ------ Progresso: 81.72%.\n",
      "Iteração 900 -------- Loss: 0.8207395076751709 f1 nas ultimas 100 iterações: 0.8228590461739571 ------ Progresso: 91.93%.\n",
      "----------Fim do treino. Iniciando avaliação!\n",
      "Iteração 100 -------- Loss: 0.43482062220573425 f1 nas ultimas 100 iterações: 0.8566453268251949 ------ Progresso: 57.47%.\n",
      "-------Fim da epoch nº 1\n",
      "Dados de treino: Loss media da epoch: 0.6883792681838324; f1 medio da epoch: 0.810203152027207\n",
      "Dados de avaliação: Loss media da epoch: 0.5694239393904291; f1 medio da epoch: 0.8401468571893116\n",
      "FIM DO TREINO! f1 media de treino ao fim de 1 epochs: 0.810203152027207\n",
      "Treino finalizado para max_len= 64\n",
      "loss_t:[0.6883792681838324], loss_e:[0.5694239393904291], f1_e:[0.8401468571893116], f1_t:[0.810203152027207]\n",
      "treinando para max_len=128\n"
     ]
    },
    {
     "name": "stderr",
     "output_type": "stream",
     "text": [
      "Some weights of the model checkpoint at neuralmind/bert-base-portuguese-cased were not used when initializing BertForTokenClassification: ['cls.predictions.transform.LayerNorm.bias', 'cls.predictions.decoder.weight', 'cls.seq_relationship.weight', 'cls.seq_relationship.bias', 'cls.predictions.bias', 'cls.predictions.transform.LayerNorm.weight', 'cls.predictions.transform.dense.bias', 'cls.predictions.transform.dense.weight']\n",
      "- This IS expected if you are initializing BertForTokenClassification from the checkpoint of a model trained on another task or with another architecture (e.g. initializing a BertForSequenceClassification model from a BertForPreTraining model).\n",
      "- This IS NOT expected if you are initializing BertForTokenClassification from the checkpoint of a model that you expect to be exactly identical (initializing a BertForSequenceClassification model from a BertForSequenceClassification model).\n",
      "Some weights of BertForTokenClassification were not initialized from the model checkpoint at neuralmind/bert-base-portuguese-cased and are newly initialized: ['classifier.bias', 'classifier.weight']\n",
      "You should probably TRAIN this model on a down-stream task to be able to use it for predictions and inference.\n"
     ]
    },
    {
     "name": "stdout",
     "output_type": "stream",
     "text": [
      "Trainner carregado!\n",
      "Começando treino! Essa função retorna a media de f1 e loss em cada epoch de treino e avaliação\n",
      "----------Começando treino da epoch nº 1\n",
      "Treinando em cuda\n",
      "Iteração 0 -------- Loss: 2.4814345836639404 f1 nas ultimas 100 iterações: 0.002230526059820053 ------ Progresso: 0.00%.\n",
      "Iteração 100 -------- Loss: 1.0500037670135498 f1 nas ultimas 100 iterações: 0.7718798577430174 ------ Progresso: 10.21%.\n",
      "Iteração 200 -------- Loss: 0.6297072768211365 f1 nas ultimas 100 iterações: 0.8084005388905432 ------ Progresso: 20.43%.\n",
      "Iteração 300 -------- Loss: 0.9996668696403503 f1 nas ultimas 100 iterações: 0.8243959054481684 ------ Progresso: 30.64%.\n",
      "Iteração 400 -------- Loss: 0.4010274112224579 f1 nas ultimas 100 iterações: 0.8114025593674034 ------ Progresso: 40.86%.\n",
      "Iteração 500 -------- Loss: 0.9502114653587341 f1 nas ultimas 100 iterações: 0.8386650715811883 ------ Progresso: 51.07%.\n",
      "Iteração 600 -------- Loss: 0.3770126700401306 f1 nas ultimas 100 iterações: 0.8182630834355055 ------ Progresso: 61.29%.\n",
      "Iteração 700 -------- Loss: 1.1425174474716187 f1 nas ultimas 100 iterações: 0.8140827578541128 ------ Progresso: 71.50%.\n",
      "Iteração 800 -------- Loss: 0.512543261051178 f1 nas ultimas 100 iterações: 0.82423903894396 ------ Progresso: 81.72%.\n",
      "Iteração 900 -------- Loss: 0.441577285528183 f1 nas ultimas 100 iterações: 0.7937814825449638 ------ Progresso: 91.93%.\n",
      "----------Fim do treino. Iniciando avaliação!\n",
      "Iteração 100 -------- Loss: 0.4047491252422333 f1 nas ultimas 100 iterações: 0.8568664293354503 ------ Progresso: 57.47%.\n",
      "-------Fim da epoch nº 1\n",
      "Dados de treino: Loss media da epoch: 0.6906435551603188; f1 medio da epoch: 0.8103210592313692\n",
      "Dados de avaliação: Loss media da epoch: 0.5845902770672037; f1 medio da epoch: 0.83845205561234\n",
      "FIM DO TREINO! f1 media de treino ao fim de 1 epochs: 0.8103210592313692\n",
      "Treino finalizado para max_len= 128\n",
      "loss_t:[0.6906435551603188], loss_e:[0.5845902770672037], f1_e:[0.83845205561234], f1_t:[0.8103210592313692]\n",
      "treinando para max_len=256\n"
     ]
    },
    {
     "name": "stderr",
     "output_type": "stream",
     "text": [
      "Some weights of the model checkpoint at neuralmind/bert-base-portuguese-cased were not used when initializing BertForTokenClassification: ['cls.predictions.transform.LayerNorm.bias', 'cls.predictions.decoder.weight', 'cls.seq_relationship.weight', 'cls.seq_relationship.bias', 'cls.predictions.bias', 'cls.predictions.transform.LayerNorm.weight', 'cls.predictions.transform.dense.bias', 'cls.predictions.transform.dense.weight']\n",
      "- This IS expected if you are initializing BertForTokenClassification from the checkpoint of a model trained on another task or with another architecture (e.g. initializing a BertForSequenceClassification model from a BertForPreTraining model).\n",
      "- This IS NOT expected if you are initializing BertForTokenClassification from the checkpoint of a model that you expect to be exactly identical (initializing a BertForSequenceClassification model from a BertForSequenceClassification model).\n",
      "Some weights of BertForTokenClassification were not initialized from the model checkpoint at neuralmind/bert-base-portuguese-cased and are newly initialized: ['classifier.bias', 'classifier.weight']\n",
      "You should probably TRAIN this model on a down-stream task to be able to use it for predictions and inference.\n"
     ]
    },
    {
     "name": "stdout",
     "output_type": "stream",
     "text": [
      "Trainner carregado!\n",
      "Começando treino! Essa função retorna a media de f1 e loss em cada epoch de treino e avaliação\n",
      "----------Começando treino da epoch nº 1\n",
      "Treinando em cuda\n",
      "Iteração 0 -------- Loss: 2.6235768795013428 f1 nas ultimas 100 iterações: 0.0011229181892373214 ------ Progresso: 0.00%.\n",
      "Iteração 100 -------- Loss: 0.513481855392456 f1 nas ultimas 100 iterações: 0.8080781226096486 ------ Progresso: 10.21%.\n",
      "Iteração 200 -------- Loss: 0.6486738324165344 f1 nas ultimas 100 iterações: 0.7982537533049616 ------ Progresso: 20.43%.\n",
      "Iteração 300 -------- Loss: 0.6562737226486206 f1 nas ultimas 100 iterações: 0.8167368296077856 ------ Progresso: 30.64%.\n",
      "Iteração 400 -------- Loss: 0.65400230884552 f1 nas ultimas 100 iterações: 0.8350042888634828 ------ Progresso: 40.86%.\n",
      "Iteração 500 -------- Loss: 0.6748431921005249 f1 nas ultimas 100 iterações: 0.8150438876200877 ------ Progresso: 51.07%.\n",
      "Iteração 600 -------- Loss: 0.8918415307998657 f1 nas ultimas 100 iterações: 0.823409866339694 ------ Progresso: 61.29%.\n",
      "Iteração 700 -------- Loss: 0.4799745976924896 f1 nas ultimas 100 iterações: 0.8161436146054285 ------ Progresso: 71.50%.\n",
      "Iteração 800 -------- Loss: 0.5391818284988403 f1 nas ultimas 100 iterações: 0.822159440326102 ------ Progresso: 81.72%.\n",
      "Iteração 900 -------- Loss: 0.7744448184967041 f1 nas ultimas 100 iterações: 0.8085223962651681 ------ Progresso: 91.93%.\n",
      "----------Fim do treino. Iniciando avaliação!\n",
      "Iteração 100 -------- Loss: 0.7915895581245422 f1 nas ultimas 100 iterações: 0.8427793344920695 ------ Progresso: 57.47%.\n",
      "-------Fim da epoch nº 1\n",
      "Dados de treino: Loss media da epoch: 0.6663526960052131; f1 medio da epoch: 0.8161405977820326\n",
      "Dados de avaliação: Loss media da epoch: 0.5714858781503535; f1 medio da epoch: 0.8400908868506554\n",
      "FIM DO TREINO! f1 media de treino ao fim de 1 epochs: 0.8161405977820326\n",
      "Treino finalizado para max_len= 256\n",
      "loss_t:[0.6663526960052131], loss_e:[0.5714858781503535], f1_e:[0.8400908868506554], f1_t:[0.8161405977820326]\n"
     ]
    }
   ],
   "source": [
    "data = {\"f1_t\":[], \"f1_e\":[], \"loss_t\": [], \"loss_e\": []}\n",
    "\n",
    "for MAX_LEN in MAX_LENS:\n",
    "        print(f\"treinando para max_len={MAX_LEN}\")\n",
    "        pytorch_dataset_train = NERDataset(data=dataset['train'], max_len=MAX_LEN, tokenizer=tokenizer)\n",
    "        pytorch_dataset_test = NERDataset(data=dataset['test'], max_len=MAX_LEN, tokenizer=tokenizer)\n",
    "        \n",
    "        loader_t = DataLoader(pytorch_dataset_train, batch_size=BATCH_SIZE, shuffle=shuffle)\n",
    "        loader_e = DataLoader(pytorch_dataset_test, batch_size=BATCH_SIZE, shuffle=shuffle)\n",
    "\n",
    "        model = NERClassifier(n_labels=n_labels, checkpoint=CHECKPOINT)\n",
    "        optimizer = AdamW(model.parameters(), lr=LEARNING_RATE, correct_bias=False)\n",
    "        \n",
    "        evaluator = Evaluator(loader_e, model, device)\n",
    "        tr = Trainner(device,\\\n",
    "                      loader_t,\\\n",
    "                      model,\\\n",
    "                      optimizer,\\\n",
    "                      max_len=MAX_LEN,\\\n",
    "                      num_examples=len(pytorch_dataset_train),\\\n",
    "                      num_epochs=NUM_EPOCHS,\\\n",
    "                      evaluator=evaluator)\n",
    "        print(\"Trainner carregado!\")\n",
    "        loss_t, loss_e, f1_e, f1_t = tr.train()\n",
    "        print(f\"Treino finalizado para max_len= {MAX_LEN}\\n\" + \\\n",
    "              f\"loss_t:{loss_t}, loss_e:{loss_e}, f1_e:{f1_e}, f1_t:{f1_t}\")\n",
    "        data[\"f1_t\"].append(f1_t[0]) # We return the f1 score for all epochs. Since we're using \n",
    "        data[\"f1_e\"].append(f1_e[0]) # num_epochs=1, we'll just take the first item.\n",
    "        data[\"loss_t\"].append(loss_t[0])\n",
    "        data[\"loss_e\"].append(loss_e[0])\n",
    "        del model"
   ]
  },
  {
   "cell_type": "code",
   "execution_count": 9,
   "id": "be230d51-1aa2-4651-82f7-cd2727ba2ad4",
   "metadata": {},
   "outputs": [
    {
     "data": {
      "text/plain": [
       "{'f1_t': [0.810203152027207, 0.8103210592313692, 0.8161405977820326],\n",
       " 'f1_e': [0.8401468571893116, 0.83845205561234, 0.8400908868506554],\n",
       " 'loss_t': [0.6883792681838324, 0.6906435551603188, 0.6663526960052131],\n",
       " 'loss_e': [0.5694239393904291, 0.5845902770672037, 0.5714858781503535]}"
      ]
     },
     "execution_count": 9,
     "metadata": {},
     "output_type": "execute_result"
    }
   ],
   "source": [
    "data"
   ]
  },
  {
   "cell_type": "code",
   "execution_count": 10,
   "id": "6b2ec1d9-b8fd-491d-a609-dec2c2a136ac",
   "metadata": {},
   "outputs": [],
   "source": [
    "from matplotlib import pyplot as plt"
   ]
  },
  {
   "cell_type": "code",
   "execution_count": 11,
   "id": "9d4b25ba-7da6-4bc4-9978-9b8e698e1dd2",
   "metadata": {},
   "outputs": [
    {
     "data": {
      "image/png": "[encoded data removed]",
      "text/plain": [
       "<Figure size 432x288 with 1 Axes>"
      ]
     },
     "metadata": {
      "needs_background": "light"
     },
     "output_type": "display_data"
    }
   ],
   "source": [
    "plt.scatter(x=MAX_LENS, y=data['loss_t'], label=\"Treino\")\n",
    "plt.scatter(x=MAX_LENS, y=data['loss_e'], label=\"Teste\")\n",
    "plt.xlabel(\"Número máximo de tokens aceitos pelo modelo\")\n",
    "plt.ylabel(\"Loss\")\n",
    "plt.title(\"Disperção de Loss em diferentes tamanhos de modelo\")\n",
    "plt.legend()\n",
    "plt.show()"
   ]
  },
  {
   "cell_type": "code",
   "execution_count": 13,
   "id": "6d32af6f-863b-4e5b-a1f5-31e0e6be7ccf",
   "metadata": {},
   "outputs": [
    {
     "data": {
      "image/png": "[encoded data removed]",
      "text/plain": [
       "<Figure size 432x288 with 1 Axes>"
      ]
     },
     "metadata": {
      "needs_background": "light"
     },
     "output_type": "display_data"
    }
   ],
   "source": [
    "plt.scatter(x=MAX_LENS, y=data['f1_t'], label=\"Treino\")\n",
    "plt.scatter(x=MAX_LENS, y=data['f1_e'], label=\"Teste\")\n",
    "plt.xlabel(\"Número máximo de tokens aceitos pelo modelo\")\n",
    "plt.ylabel(\"f1\")\n",
    "plt.title(\"Disperção de f1 em diferentes tamanhos de modelo\")\n",
    "plt.legend()\n",
    "plt.show()"
   ]
  },
  {
   "cell_type": "code",
   "execution_count": null,
   "id": "1b19c3be-94bd-4b07-9699-3657bea7f267",
   "metadata": {},
   "outputs": [],
   "source": []
  }
 ],
 "metadata": {
  "kernelspec": {
   "display_name": "Python 3 (ipykernel)",
   "language": "python",
   "name": "python3"
  },
  "language_info": {
   "codemirror_mode": {
    "name": "ipython",
    "version": 3
   },
   "file_extension": ".py",
   "mimetype": "text/x-python",
   "name": "python",
   "nbconvert_exporter": "python",
   "pygments_lexer": "ipython3",
   "version": "3.8.10"
  }
 },
 "nbformat": 4,
 "nbformat_minor": 5
}
