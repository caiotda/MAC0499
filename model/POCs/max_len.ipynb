{
 "cells": [
  {
   "cell_type": "code",
   "execution_count": 1,
   "id": "bd5ea98a-aa2e-4b35-9dae-470f39588f74",
   "metadata": {},
   "outputs": [],
   "source": [
    "import sys\n",
    "\n",
    "sys.path.append('..') # Allows imports from parent folder"
   ]
  },
  {
   "cell_type": "code",
   "execution_count": 2,
   "id": "d31bc4f2-0036-4e1b-9cd3-ed0a1dea26ff",
   "metadata": {},
   "outputs": [],
   "source": [
    "from datasets import load_dataset\n",
    "from model import NERClassifier\n",
    "from preprocess_dataset import NERDataset \n",
    "from trainner import Trainner\n",
    "from transformers import BertTokenizer, BertTokenizerFast\n",
    "from preprocess_dataset import remove_empty_entries\n",
    "\n",
    "import torch"
   ]
  },
  {
   "cell_type": "code",
   "execution_count": 6,
   "id": "902daecc-f18c-4651-a4de-c869c0a23308",
   "metadata": {},
   "outputs": [],
   "source": [
    "CHECKPOINT = 'neuralmind/bert-base-portuguese-cased'\n",
    "tokenizer = BertTokenizerFast.from_pretrained(CHECKPOINT)"
   ]
  },
  {
   "cell_type": "code",
   "execution_count": 7,
   "id": "27e50730-b948-47a4-ac39-3c299871b8d0",
   "metadata": {},
   "outputs": [
    {
     "name": "stderr",
     "output_type": "stream",
     "text": [
      "Reusing dataset lener_br (/home/caiotulio/.cache/huggingface/datasets/lener_br/lener_br/1.0.0/4a8c97e6813b5c2d85a50faf0a3e6c24ea82f4a9044e6e9e8b24997d27399382)\n",
      "Loading cached processed dataset at /home/caiotulio/.cache/huggingface/datasets/lener_br/lener_br/1.0.0/4a8c97e6813b5c2d85a50faf0a3e6c24ea82f4a9044e6e9e8b24997d27399382/cache-5e59bc59f25f3d7f.arrow\n",
      "Loading cached processed dataset at /home/caiotulio/.cache/huggingface/datasets/lener_br/lener_br/1.0.0/4a8c97e6813b5c2d85a50faf0a3e6c24ea82f4a9044e6e9e8b24997d27399382/cache-8d0457760cd67ee6.arrow\n",
      "Loading cached processed dataset at /home/caiotulio/.cache/huggingface/datasets/lener_br/lener_br/1.0.0/4a8c97e6813b5c2d85a50faf0a3e6c24ea82f4a9044e6e9e8b24997d27399382/cache-74e841c1c151996a.arrow\n"
     ]
    }
   ],
   "source": [
    "data = \"lener_br\"\n",
    "dataset = load_dataset(data)\n",
    "dataset = remove_empty_entries(dataset)"
   ]
  },
  {
   "cell_type": "markdown",
   "id": "8d712e8e-ee39-4d78-9d4b-517661cc5898",
   "metadata": {},
   "source": [
    "## Hyperparameters"
   ]
  },
  {
   "cell_type": "code",
   "execution_count": 4,
   "id": "602849b9-3a13-46fb-95af-76f51f743713",
   "metadata": {},
   "outputs": [],
   "source": [
    "MAX_LENS = [64, 128, 256]\n",
    "LEARNING_RATE=3e-4\n",
    "n_labels = 13\n",
    "BATCH_SIZE=8\n",
    "shuffle=True\n",
    "NUM_EPOCHS=1\n",
    "device=torch.device(\"cuda\" if torch.cuda.is_available() else \"cpu\")"
   ]
  },
  {
   "cell_type": "markdown",
   "id": "2597b43d-aecf-4654-8f50-efcaa7695e83",
   "metadata": {},
   "source": [
    "## Training models with different sizes"
   ]
  },
  {
   "cell_type": "code",
   "execution_count": 5,
   "id": "b4f11821-70f9-4fae-9422-f54dde370564",
   "metadata": {},
   "outputs": [],
   "source": [
    "import pandas as pd\n",
    "from evaluator import Evaluator\n",
    "from torch.utils.data import DataLoader\n",
    "from transformers import AdamW"
   ]
  },
  {
   "cell_type": "code",
   "execution_count": 12,
   "id": "c6704abf-f9e4-494b-8d80-a18876bde94a",
   "metadata": {},
   "outputs": [
    {
     "name": "stdout",
     "output_type": "stream",
     "text": [
      "treinando para max_len=64\n"
     ]
    },
    {
     "name": "stderr",
     "output_type": "stream",
     "text": [
      "Some weights of the model checkpoint at neuralmind/bert-base-portuguese-cased were not used when initializing BertForTokenClassification: ['cls.predictions.transform.dense.weight', 'cls.predictions.transform.LayerNorm.bias', 'cls.predictions.decoder.weight', 'cls.seq_relationship.weight', 'cls.predictions.bias', 'cls.predictions.transform.dense.bias', 'cls.seq_relationship.bias', 'cls.predictions.transform.LayerNorm.weight']\n",
      "- This IS expected if you are initializing BertForTokenClassification from the checkpoint of a model trained on another task or with another architecture (e.g. initializing a BertForSequenceClassification model from a BertForPreTraining model).\n",
      "- This IS NOT expected if you are initializing BertForTokenClassification from the checkpoint of a model that you expect to be exactly identical (initializing a BertForSequenceClassification model from a BertForSequenceClassification model).\n",
      "Some weights of BertForTokenClassification were not initialized from the model checkpoint at neuralmind/bert-base-portuguese-cased and are newly initialized: ['classifier.bias', 'classifier.weight']\n",
      "You should probably TRAIN this model on a down-stream task to be able to use it for predictions and inference.\n"
     ]
    },
    {
     "name": "stdout",
     "output_type": "stream",
     "text": [
      "Trainner carregado!\n",
      "Começando treino! Essa função retorna a media de f1 e loss em cada epoch de treino e avaliação\n",
      "----------Começando treino da epoch nº 1\n",
      "Treinando em cuda\n",
      "Iteração 0 -------- Loss: 2.587592840194702 f1 nas ultimas 100 iterações: 0.000993963156584516 ------ Progresso: 0.00%.\n",
      "Iteração 100 -------- Loss: 0.4851761758327484 f1 nas ultimas 100 iterações: 0.7861392288920933 ------ Progresso: 10.21%.\n",
      "Iteração 200 -------- Loss: 0.7291067838668823 f1 nas ultimas 100 iterações: 0.80926814077942 ------ Progresso: 20.43%.\n",
      "Iteração 300 -------- Loss: 0.31220290064811707 f1 nas ultimas 100 iterações: 0.8107797851887422 ------ Progresso: 30.64%.\n",
      "Iteração 400 -------- Loss: 1.0880780220031738 f1 nas ultimas 100 iterações: 0.8081338709688128 ------ Progresso: 40.86%.\n",
      "Iteração 500 -------- Loss: 0.5058727860450745 f1 nas ultimas 100 iterações: 0.8138935339507646 ------ Progresso: 51.07%.\n",
      "Iteração 600 -------- Loss: 0.6633578538894653 f1 nas ultimas 100 iterações: 0.7912139920184679 ------ Progresso: 61.29%.\n",
      "Iteração 700 -------- Loss: 0.8851057887077332 f1 nas ultimas 100 iterações: 0.8062648061143031 ------ Progresso: 71.50%.\n",
      "Iteração 800 -------- Loss: 0.5809277296066284 f1 nas ultimas 100 iterações: 0.8335572944059594 ------ Progresso: 81.72%.\n",
      "Iteração 900 -------- Loss: 1.1156595945358276 f1 nas ultimas 100 iterações: 0.8313083470729815 ------ Progresso: 91.93%.\n",
      "----------Fim do treino. Iniciando avaliação!\n",
      "Iteração 100 -------- Loss: 0.4059797525405884 f1 nas ultimas 100 iterações: 0.825517384082182 ------ Progresso: 10.21%.\n",
      "Iteração 200 -------- Loss: 0.2047821283340454 f1 nas ultimas 100 iterações: 0.8120003252039478 ------ Progresso: 20.43%.\n",
      "Iteração 300 -------- Loss: 0.4998135566711426 f1 nas ultimas 100 iterações: 0.794768363261133 ------ Progresso: 30.64%.\n",
      "Iteração 400 -------- Loss: 0.2888830006122589 f1 nas ultimas 100 iterações: 0.8232180651596446 ------ Progresso: 40.86%.\n",
      "Iteração 500 -------- Loss: 0.7384487390518188 f1 nas ultimas 100 iterações: 0.8129363017503048 ------ Progresso: 51.07%.\n",
      "Iteração 600 -------- Loss: 0.3926248252391815 f1 nas ultimas 100 iterações: 0.8252256466320893 ------ Progresso: 61.29%.\n",
      "Iteração 700 -------- Loss: 0.8677096366882324 f1 nas ultimas 100 iterações: 0.8021915080459959 ------ Progresso: 71.50%.\n",
      "Iteração 800 -------- Loss: 0.31712669134140015 f1 nas ultimas 100 iterações: 0.8151035952295069 ------ Progresso: 81.72%.\n",
      "Iteração 900 -------- Loss: 0.7790904641151428 f1 nas ultimas 100 iterações: 0.8033156010342768 ------ Progresso: 91.93%.\n",
      "-------Fim da epoch nº 1\n",
      "Dados de treino: Loss media da epoch: 0.6893169190411182; f1 medio da epoch: 0.8100718676113787\n",
      "Dados de avaliação: Loss media da epoch: 0.6585161965854078; f1 medio da epoch: 0.8129783618496284\n",
      "FIM DO TREINO! f1 media de treino ao fim de 1 epochs: 0.8100718676113787\n",
      "Treino finalizado para max_len= 64\n",
      "loss_t:[0.6893169190411182], loss_e:[0.6585161965854078], f1_e:[0.8129783618496284], f1_t:[0.8100718676113787]\n",
      "treinando para max_len=128\n"
     ]
    },
    {
     "name": "stderr",
     "output_type": "stream",
     "text": [
      "Some weights of the model checkpoint at neuralmind/bert-base-portuguese-cased were not used when initializing BertForTokenClassification: ['cls.predictions.transform.dense.weight', 'cls.predictions.transform.LayerNorm.bias', 'cls.predictions.decoder.weight', 'cls.seq_relationship.weight', 'cls.predictions.bias', 'cls.predictions.transform.dense.bias', 'cls.seq_relationship.bias', 'cls.predictions.transform.LayerNorm.weight']\n",
      "- This IS expected if you are initializing BertForTokenClassification from the checkpoint of a model trained on another task or with another architecture (e.g. initializing a BertForSequenceClassification model from a BertForPreTraining model).\n",
      "- This IS NOT expected if you are initializing BertForTokenClassification from the checkpoint of a model that you expect to be exactly identical (initializing a BertForSequenceClassification model from a BertForSequenceClassification model).\n",
      "Some weights of BertForTokenClassification were not initialized from the model checkpoint at neuralmind/bert-base-portuguese-cased and are newly initialized: ['classifier.bias', 'classifier.weight']\n",
      "You should probably TRAIN this model on a down-stream task to be able to use it for predictions and inference.\n"
     ]
    },
    {
     "name": "stdout",
     "output_type": "stream",
     "text": [
      "Trainner carregado!\n",
      "Começando treino! Essa função retorna a media de f1 e loss em cada epoch de treino e avaliação\n",
      "----------Começando treino da epoch nº 1\n",
      "Treinando em cuda\n",
      "Iteração 0 -------- Loss: 2.4994595050811768 f1 nas ultimas 100 iterações: 0.001974800311970524 ------ Progresso: 0.00%.\n",
      "Iteração 100 -------- Loss: 0.8801887631416321 f1 nas ultimas 100 iterações: 0.7879873734474648 ------ Progresso: 10.21%.\n",
      "Iteração 200 -------- Loss: 0.779370129108429 f1 nas ultimas 100 iterações: 0.8097121026322237 ------ Progresso: 20.43%.\n",
      "Iteração 300 -------- Loss: 0.5340767502784729 f1 nas ultimas 100 iterações: 0.8329601576383462 ------ Progresso: 30.64%.\n",
      "Iteração 400 -------- Loss: 1.0291061401367188 f1 nas ultimas 100 iterações: 0.8123266415292558 ------ Progresso: 40.86%.\n",
      "Iteração 500 -------- Loss: 1.53361177444458 f1 nas ultimas 100 iterações: 0.8242972146636486 ------ Progresso: 51.07%.\n",
      "Iteração 600 -------- Loss: 1.1873161792755127 f1 nas ultimas 100 iterações: 0.8129167491593685 ------ Progresso: 61.29%.\n",
      "Iteração 700 -------- Loss: 0.33367273211479187 f1 nas ultimas 100 iterações: 0.8209621704524136 ------ Progresso: 71.50%.\n",
      "Iteração 800 -------- Loss: 0.5170137882232666 f1 nas ultimas 100 iterações: 0.8161650830794052 ------ Progresso: 81.72%.\n",
      "Iteração 900 -------- Loss: 0.930473268032074 f1 nas ultimas 100 iterações: 0.8243386076934732 ------ Progresso: 91.93%.\n",
      "----------Fim do treino. Iniciando avaliação!\n",
      "Iteração 100 -------- Loss: 0.6842831969261169 f1 nas ultimas 100 iterações: 0.8335599086626896 ------ Progresso: 10.21%.\n",
      "Iteração 200 -------- Loss: 0.6238753795623779 f1 nas ultimas 100 iterações: 0.8104718496709554 ------ Progresso: 20.43%.\n",
      "Iteração 300 -------- Loss: 0.3907380998134613 f1 nas ultimas 100 iterações: 0.8084986135517758 ------ Progresso: 30.64%.\n",
      "Iteração 400 -------- Loss: 0.4312836229801178 f1 nas ultimas 100 iterações: 0.816527595222496 ------ Progresso: 40.86%.\n",
      "Iteração 500 -------- Loss: 0.4361742436885834 f1 nas ultimas 100 iterações: 0.814382546368419 ------ Progresso: 51.07%.\n",
      "Iteração 600 -------- Loss: 0.7260110378265381 f1 nas ultimas 100 iterações: 0.8353118993170524 ------ Progresso: 61.29%.\n",
      "Iteração 700 -------- Loss: 0.7919319868087769 f1 nas ultimas 100 iterações: 0.8222034105210283 ------ Progresso: 71.50%.\n",
      "Iteração 800 -------- Loss: 0.6243651509284973 f1 nas ultimas 100 iterações: 0.8101364734456429 ------ Progresso: 81.72%.\n",
      "Iteração 900 -------- Loss: 0.8087242245674133 f1 nas ultimas 100 iterações: 0.8017543321449029 ------ Progresso: 91.93%.\n",
      "-------Fim da epoch nº 1\n",
      "Dados de treino: Loss media da epoch: 0.6699847795594335; f1 medio da epoch: 0.8140861070692607\n",
      "Dados de avaliação: Loss media da epoch: 0.6568699793412566; f1 medio da epoch: 0.8158356598998224\n",
      "FIM DO TREINO! f1 media de treino ao fim de 1 epochs: 0.8140861070692607\n",
      "Treino finalizado para max_len= 128\n",
      "loss_t:[0.6699847795594335], loss_e:[0.6568699793412566], f1_e:[0.8158356598998224], f1_t:[0.8140861070692607]\n",
      "treinando para max_len=256\n"
     ]
    },
    {
     "name": "stderr",
     "output_type": "stream",
     "text": [
      "Some weights of the model checkpoint at neuralmind/bert-base-portuguese-cased were not used when initializing BertForTokenClassification: ['cls.predictions.transform.dense.weight', 'cls.predictions.transform.LayerNorm.bias', 'cls.predictions.decoder.weight', 'cls.seq_relationship.weight', 'cls.predictions.bias', 'cls.predictions.transform.dense.bias', 'cls.seq_relationship.bias', 'cls.predictions.transform.LayerNorm.weight']\n",
      "- This IS expected if you are initializing BertForTokenClassification from the checkpoint of a model trained on another task or with another architecture (e.g. initializing a BertForSequenceClassification model from a BertForPreTraining model).\n",
      "- This IS NOT expected if you are initializing BertForTokenClassification from the checkpoint of a model that you expect to be exactly identical (initializing a BertForSequenceClassification model from a BertForSequenceClassification model).\n",
      "Some weights of BertForTokenClassification were not initialized from the model checkpoint at neuralmind/bert-base-portuguese-cased and are newly initialized: ['classifier.bias', 'classifier.weight']\n",
      "You should probably TRAIN this model on a down-stream task to be able to use it for predictions and inference.\n"
     ]
    },
    {
     "name": "stdout",
     "output_type": "stream",
     "text": [
      "Trainner carregado!\n",
      "Começando treino! Essa função retorna a media de f1 e loss em cada epoch de treino e avaliação\n",
      "----------Começando treino da epoch nº 1\n",
      "Treinando em cuda\n",
      "Iteração 0 -------- Loss: 2.827531576156616 f1 nas ultimas 100 iterações: 0.0004135451003895714 ------ Progresso: 0.00%.\n",
      "Iteração 100 -------- Loss: 0.6992560625076294 f1 nas ultimas 100 iterações: 0.80212351616958 ------ Progresso: 10.21%.\n",
      "Iteração 200 -------- Loss: 0.5247163772583008 f1 nas ultimas 100 iterações: 0.8310989651436952 ------ Progresso: 20.43%.\n",
      "Iteração 300 -------- Loss: 0.5399226546287537 f1 nas ultimas 100 iterações: 0.8298725462558114 ------ Progresso: 30.64%.\n",
      "Iteração 400 -------- Loss: 0.1873147189617157 f1 nas ultimas 100 iterações: 0.818566937261309 ------ Progresso: 40.86%.\n",
      "Iteração 500 -------- Loss: 0.8691987991333008 f1 nas ultimas 100 iterações: 0.8184819429731078 ------ Progresso: 51.07%.\n",
      "Iteração 600 -------- Loss: 0.513874351978302 f1 nas ultimas 100 iterações: 0.8225453768639867 ------ Progresso: 61.29%.\n",
      "Iteração 700 -------- Loss: 0.4382465183734894 f1 nas ultimas 100 iterações: 0.8017006483473653 ------ Progresso: 71.50%.\n",
      "Iteração 800 -------- Loss: 0.4280295670032501 f1 nas ultimas 100 iterações: 0.8303993697063174 ------ Progresso: 81.72%.\n",
      "Iteração 900 -------- Loss: 0.5225203633308411 f1 nas ultimas 100 iterações: 0.8101623438411839 ------ Progresso: 91.93%.\n",
      "----------Fim do treino. Iniciando avaliação!\n",
      "Iteração 100 -------- Loss: 0.3139084279537201 f1 nas ultimas 100 iterações: 0.8271895643982758 ------ Progresso: 10.21%.\n",
      "Iteração 200 -------- Loss: 0.6731091141700745 f1 nas ultimas 100 iterações: 0.8120104543723895 ------ Progresso: 20.43%.\n",
      "Iteração 300 -------- Loss: 0.46484991908073425 f1 nas ultimas 100 iterações: 0.8136174446693195 ------ Progresso: 30.64%.\n",
      "Iteração 400 -------- Loss: 0.9780173301696777 f1 nas ultimas 100 iterações: 0.8049992633746044 ------ Progresso: 40.86%.\n",
      "Iteração 500 -------- Loss: 0.5377901196479797 f1 nas ultimas 100 iterações: 0.8271987615019246 ------ Progresso: 51.07%.\n",
      "Iteração 600 -------- Loss: 0.8413715958595276 f1 nas ultimas 100 iterações: 0.8126174380063697 ------ Progresso: 61.29%.\n",
      "Iteração 700 -------- Loss: 0.4780489504337311 f1 nas ultimas 100 iterações: 0.8097595146565904 ------ Progresso: 71.50%.\n",
      "Iteração 800 -------- Loss: 0.5376250743865967 f1 nas ultimas 100 iterações: 0.8327789549138065 ------ Progresso: 81.72%.\n",
      "Iteração 900 -------- Loss: 0.6984397768974304 f1 nas ultimas 100 iterações: 0.8217312888200224 ------ Progresso: 91.93%.\n",
      "-------Fim da epoch nº 1\n",
      "Dados de treino: Loss media da epoch: 0.6641292669662904; f1 medio da epoch: 0.8161770164155164\n",
      "Dados de avaliação: Loss media da epoch: 0.6587088152050851; f1 medio da epoch: 0.8172325172494815\n",
      "FIM DO TREINO! f1 media de treino ao fim de 1 epochs: 0.8161770164155164\n",
      "Treino finalizado para max_len= 256\n",
      "loss_t:[0.6641292669662904], loss_e:[0.6587088152050851], f1_e:[0.8172325172494815], f1_t:[0.8161770164155164]\n"
     ]
    }
   ],
   "source": [
    "data = {\"f1_t\":[], \"f1_e\":[], \"loss_t\": [], \"loss_e\": []}\n",
    "\n",
    "for MAX_LEN in MAX_LENS:\n",
    "        print(f\"treinando para max_len={MAX_LEN}\")\n",
    "        pytorch_dataset_train = NERDataset(data=dataset['train'], max_len=MAX_LEN, tokenizer=tokenizer)\n",
    "        loader = DataLoader(pytorch_dataset_train, batch_size=BATCH_SIZE, shuffle=shuffle)\n",
    "        \n",
    "        model = NERClassifier(n_labels=n_labels, checkpoint=CHECKPOINT)\n",
    "        optimizer = AdamW(model.parameters(), lr=LEARNING_RATE, correct_bias=False)\n",
    "        \n",
    "        evaluator = Evaluator(loader, model, device)\n",
    "        tr = Trainner(device,\\\n",
    "                      loader,\\\n",
    "                      model,\\\n",
    "                      optimizer,\\\n",
    "                      max_len=MAX_LEN,\\\n",
    "                      num_examples=len(pytorch_dataset_train),\\\n",
    "                      num_epochs=NUM_EPOCHS,\\\n",
    "                      evaluator=evaluator)\n",
    "        print(\"Trainner carregado!\")\n",
    "        loss_t, loss_e, f1_e, f1_t = tr.train()\n",
    "        print(f\"Treino finalizado para max_len= {MAX_LEN}\\n\" + \\\n",
    "              f\"loss_t:{loss_t}, loss_e:{loss_e}, f1_e:{f1_e}, f1_t:{f1_t}\")\n",
    "        data[\"f1_t\"].append(f1_t[0]) # We return the f1 score for all epochs. Since we're using \n",
    "        data[\"f1_e\"].append(f1_e[0]) # num_epochs=1, we'll just take the first item.\n",
    "        data[\"loss_t\"].append(loss_t[0])\n",
    "        data[\"loss_e\"].append(loss_e[0])\n",
    "        del model"
   ]
  },
  {
   "cell_type": "code",
   "execution_count": 13,
   "id": "be230d51-1aa2-4651-82f7-cd2727ba2ad4",
   "metadata": {},
   "outputs": [
    {
     "data": {
      "text/plain": [
       "{'f1_t': [0.8100718676113787, 0.8140861070692607, 0.8161770164155164],\n",
       " 'f1_e': [0.8129783618496284, 0.8158356598998224, 0.8172325172494815],\n",
       " 'loss_t': [0.6893169190411182, 0.6699847795594335, 0.6641292669662904],\n",
       " 'loss_e': [0.6585161965854078, 0.6568699793412566, 0.6587088152050851]}"
      ]
     },
     "execution_count": 13,
     "metadata": {},
     "output_type": "execute_result"
    }
   ],
   "source": [
    "data"
   ]
  },
  {
   "cell_type": "code",
   "execution_count": 16,
   "id": "6b2ec1d9-b8fd-491d-a609-dec2c2a136ac",
   "metadata": {},
   "outputs": [],
   "source": [
    "from matplotlib import pyplot as plt"
   ]
  },
  {
   "cell_type": "code",
   "execution_count": 33,
   "id": "9d4b25ba-7da6-4bc4-9978-9b8e698e1dd2",
   "metadata": {},
   "outputs": [
    {
     "data": {
      "image/png": "[encoded data removed]",
      "text/plain": [
       "<Figure size 432x288 with 1 Axes>"
      ]
     },
     "metadata": {
      "needs_background": "light"
     },
     "output_type": "display_data"
    }
   ],
   "source": [
    "plt.scatter(x=MAX_LENS, y=data['loss_t'], label=\"Treino\")\n",
    "plt.scatter(x=MAX_LENS, y=data['loss_e'], label=\"Teste\")\n",
    "plt.xlabel(\"Número máximo de tokens aceitos pelo modelo\")\n",
    "plt.ylabel(\"Loss\")\n",
    "plt.title(\"Disperção de Loss em diferentes tamanhos de modelo\")\n",
    "plt.legend()\n",
    "plt.show()"
   ]
  },
  {
   "cell_type": "code",
   "execution_count": 34,
   "id": "6d32af6f-863b-4e5b-a1f5-31e0e6be7ccf",
   "metadata": {},
   "outputs": [
    {
     "data": {
      "image/png": "[encoded data removed]",
      "text/plain": [
       "<Figure size 432x288 with 1 Axes>"
      ]
     },
     "metadata": {
      "needs_background": "light"
     },
     "output_type": "display_data"
    }
   ],
   "source": [
    "plt.scatter(x=MAX_LENS, y=data['f1_t'], label=\"Treino\")\n",
    "plt.scatter(x=MAX_LENS, y=data['f1_e'], label=\"Teste\")\n",
    "plt.xlabel(\"Número máximo de tokens aceitos pelo modelo\")\n",
    "plt.ylabel(\"f1\")\n",
    "plt.title(\"Disperção de f1 em diferentes tamanhos de modelo\")\n",
    "plt.legend()\n",
    "plt.show()"
   ]
  }
 ],
 "metadata": {
  "kernelspec": {
   "display_name": "Python 3 (ipykernel)",
   "language": "python",
   "name": "python3"
  },
  "language_info": {
   "codemirror_mode": {
    "name": "ipython",
    "version": 3
   },
   "file_extension": ".py",
   "mimetype": "text/x-python",
   "name": "python",
   "nbconvert_exporter": "python",
   "pygments_lexer": "ipython3",
   "version": "3.8.10"
  }
 },
 "nbformat": 4,
 "nbformat_minor": 5
}
