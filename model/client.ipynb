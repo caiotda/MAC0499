{
 "cells": [
  {
   "cell_type": "markdown",
   "id": "89390d63-bf24-48f0-9cc0-54df3c5f1367",
   "metadata": {},
   "source": [
    "# Notebook de cliente / Experimentação do modelo"
   ]
  },
  {
   "cell_type": "code",
   "execution_count": 1,
   "id": "0213afb0-1e79-4fff-88e0-1299b29924da",
   "metadata": {},
   "outputs": [],
   "source": [
    "from datasets import load_dataset\n",
    "from model import NERClassifier\n",
    "from preprocess_dataset import NERDataset \n",
    "from trainner import Trainner\n",
    "from transformers import BertTokenizer\n",
    "from preprocess_dataset import remove_empty_entries\n",
    "\n",
    "import torch"
   ]
  },
  {
   "cell_type": "markdown",
   "id": "d04d0198-4103-4d77-b5a5-d76616a844bf",
   "metadata": {},
   "source": [
    "## Setups"
   ]
  },
  {
   "cell_type": "code",
   "execution_count": 2,
   "id": "bd363303-49e9-4673-8b3e-de53bcc8869a",
   "metadata": {},
   "outputs": [
    {
     "name": "stderr",
     "output_type": "stream",
     "text": [
      "Reusing dataset lener_br (/home/caiotulio/.cache/huggingface/datasets/lener_br/lener_br/1.0.0/4a8c97e6813b5c2d85a50faf0a3e6c24ea82f4a9044e6e9e8b24997d27399382)\n",
      "Loading cached processed dataset at /home/caiotulio/.cache/huggingface/datasets/lener_br/lener_br/1.0.0/4a8c97e6813b5c2d85a50faf0a3e6c24ea82f4a9044e6e9e8b24997d27399382/cache-5e59bc59f25f3d7f.arrow\n",
      "Loading cached processed dataset at /home/caiotulio/.cache/huggingface/datasets/lener_br/lener_br/1.0.0/4a8c97e6813b5c2d85a50faf0a3e6c24ea82f4a9044e6e9e8b24997d27399382/cache-8d0457760cd67ee6.arrow\n",
      "Loading cached processed dataset at /home/caiotulio/.cache/huggingface/datasets/lener_br/lener_br/1.0.0/4a8c97e6813b5c2d85a50faf0a3e6c24ea82f4a9044e6e9e8b24997d27399382/cache-74e841c1c151996a.arrow\n"
     ]
    }
   ],
   "source": [
    "\n",
    "CHECKPOINT = 'neuralmind/bert-base-portuguese-cased'\n",
    "tokenizer = BertTokenizer.from_pretrained(CHECKPOINT)\n",
    "data = \"lener_br\"\n",
    "dataset = load_dataset(data)\n",
    "\n",
    "dataset = remove_empty_entries(dataset)"
   ]
  },
  {
   "cell_type": "code",
   "execution_count": 3,
   "id": "b20e8238-f4c0-4063-a393-0e5a6a76e5c4",
   "metadata": {},
   "outputs": [],
   "source": [
    "MAX_LEN = 256"
   ]
  },
  {
   "cell_type": "code",
   "execution_count": 4,
   "id": "0a3cbc51-32d6-44bf-ba40-90a84cd0189c",
   "metadata": {},
   "outputs": [
    {
     "name": "stderr",
     "output_type": "stream",
     "text": [
      "Some weights of the model checkpoint at neuralmind/bert-base-portuguese-cased were not used when initializing BertForTokenClassification: ['cls.predictions.decoder.weight', 'cls.predictions.bias', 'cls.seq_relationship.weight', 'cls.predictions.transform.LayerNorm.weight', 'cls.predictions.transform.dense.weight', 'cls.seq_relationship.bias', 'cls.predictions.transform.LayerNorm.bias', 'cls.predictions.transform.dense.bias']\n",
      "- This IS expected if you are initializing BertForTokenClassification from the checkpoint of a model trained on another task or with another architecture (e.g. initializing a BertForSequenceClassification model from a BertForPreTraining model).\n",
      "- This IS NOT expected if you are initializing BertForTokenClassification from the checkpoint of a model that you expect to be exactly identical (initializing a BertForSequenceClassification model from a BertForSequenceClassification model).\n",
      "Some weights of BertForTokenClassification were not initialized from the model checkpoint at neuralmind/bert-base-portuguese-cased and are newly initialized: ['classifier.weight', 'classifier.bias']\n",
      "You should probably TRAIN this model on a down-stream task to be able to use it for predictions and inference.\n"
     ]
    }
   ],
   "source": [
    "pytorch_dataset_train = NERDataset(data=dataset['train'], max_len=MAX_LEN, tokenizer=tokenizer)\n",
    "teste = pytorch_dataset_train[0]\n",
    "n_labels = 13 #TODO: por enquanto hardcodado \n",
    "model = NERClassifier(n_labels=n_labels, checkpoint=CHECKPOINT)\n",
    "input_ids = teste['input_ids']\n",
    "attention_mask = teste['attention_mask']\n",
    "labels = teste['targets']"
   ]
  },
  {
   "cell_type": "markdown",
   "id": "639dfd15-a212-498e-835e-5d2a4db979e7",
   "metadata": {},
   "source": []
  },
  {
   "cell_type": "markdown",
   "id": "4537e7e5-da7d-494f-a015-66c03894688a",
   "metadata": {},
   "source": [
    "## Explorando um pouco o dataset"
   ]
  },
  {
   "cell_type": "code",
   "execution_count": 5,
   "id": "8d27750a-e9a3-428f-8012-1d8b4d7092dc",
   "metadata": {},
   "outputs": [
    {
     "data": {
      "text/plain": [
       "datasets.dataset_dict.DatasetDict"
      ]
     },
     "execution_count": 5,
     "metadata": {},
     "output_type": "execute_result"
    }
   ],
   "source": [
    "type(dataset)"
   ]
  },
  {
   "cell_type": "code",
   "execution_count": 6,
   "id": "f5c07886-acdf-4186-99ea-a0698bdb912a",
   "metadata": {},
   "outputs": [
    {
     "data": {
      "text/plain": [
       "DatasetDict({\n",
       "    train: Dataset({\n",
       "        features: ['id', 'ner_tags', 'tokens'],\n",
       "        num_rows: 7827\n",
       "    })\n",
       "    validation: Dataset({\n",
       "        features: ['id', 'ner_tags', 'tokens'],\n",
       "        num_rows: 1176\n",
       "    })\n",
       "    test: Dataset({\n",
       "        features: ['id', 'ner_tags', 'tokens'],\n",
       "        num_rows: 1389\n",
       "    })\n",
       "})"
      ]
     },
     "execution_count": 6,
     "metadata": {},
     "output_type": "execute_result"
    }
   ],
   "source": [
    "dataset"
   ]
  },
  {
   "cell_type": "code",
   "execution_count": null,
   "id": "e7ee3245-7c6e-409e-b7eb-c4e70d2b5171",
   "metadata": {},
   "outputs": [],
   "source": []
  },
  {
   "cell_type": "code",
   "execution_count": 7,
   "id": "d5189693-79c5-43c3-9cbe-009d2221d4b7",
   "metadata": {},
   "outputs": [],
   "source": [
    "# dataset = remove_empty_entries(dataset)"
   ]
  },
  {
   "cell_type": "code",
   "execution_count": 8,
   "id": "7b199353-8558-4d69-9001-dc54291f2921",
   "metadata": {},
   "outputs": [
    {
     "data": {
      "text/plain": [
       "DatasetDict({\n",
       "    train: Dataset({\n",
       "        features: ['id', 'ner_tags', 'tokens'],\n",
       "        num_rows: 7827\n",
       "    })\n",
       "    validation: Dataset({\n",
       "        features: ['id', 'ner_tags', 'tokens'],\n",
       "        num_rows: 1176\n",
       "    })\n",
       "    test: Dataset({\n",
       "        features: ['id', 'ner_tags', 'tokens'],\n",
       "        num_rows: 1389\n",
       "    })\n",
       "})"
      ]
     },
     "execution_count": 8,
     "metadata": {},
     "output_type": "execute_result"
    }
   ],
   "source": [
    "dataset"
   ]
  },
  {
   "cell_type": "code",
   "execution_count": 9,
   "id": "1a4c3c17-ae0e-4213-83f6-f43ea756ec02",
   "metadata": {},
   "outputs": [],
   "source": [
    "max_vals = [torch.max(val['targets']) for val in pytorch_dataset_train]"
   ]
  },
  {
   "cell_type": "code",
   "execution_count": 10,
   "id": "61ca0bdf-294e-41a8-aede-2d07f916e537",
   "metadata": {},
   "outputs": [],
   "source": [
    "interval = (min(max_vals).item(), max(max_vals).item())"
   ]
  },
  {
   "cell_type": "code",
   "execution_count": 11,
   "id": "4eb6090f-11b2-4f5b-bc76-39e96bb43904",
   "metadata": {},
   "outputs": [
    {
     "data": {
      "text/plain": [
       "(0, 12)"
      ]
     },
     "execution_count": 11,
     "metadata": {},
     "output_type": "execute_result"
    }
   ],
   "source": [
    "interval"
   ]
  },
  {
   "cell_type": "code",
   "execution_count": 12,
   "id": "b4764938-d372-4943-8889-81a1ddf8ee3a",
   "metadata": {},
   "outputs": [
    {
     "name": "stdout",
     "output_type": "stream",
     "text": [
      "TokenClassifierOutput(loss=tensor(2.5955, grad_fn=<NllLossBackward>), logits=tensor([[[-0.0260,  0.2948,  0.0579,  ..., -0.1163,  0.1478, -0.4721],\n",
      "         [ 0.6680, -0.1135, -0.7813,  ...,  0.0356,  0.1786, -0.1851],\n",
      "         [ 0.0152, -0.5089,  0.2501,  ..., -0.1331,  0.2662,  0.0662],\n",
      "         ...,\n",
      "         [ 0.3990, -0.0729, -0.0771,  ...,  0.3480, -0.0042, -0.0987],\n",
      "         [ 0.0696,  0.3867, -0.1915,  ...,  0.2513,  0.1726, -0.1915],\n",
      "         [ 0.2994,  0.0285, -0.2428,  ...,  0.1533,  0.0125, -0.2019]]],\n",
      "       grad_fn=<AddBackward0>), hidden_states=None, attentions=None)\n"
     ]
    }
   ],
   "source": [
    "saida = model(input_ids, attention_mask, labels=labels)\n",
    "print(saida)"
   ]
  },
  {
   "cell_type": "markdown",
   "id": "21d9daf3-5b07-481c-8b47-841203c901b8",
   "metadata": {},
   "source": [
    "## Testando o DataLoader"
   ]
  },
  {
   "cell_type": "code",
   "execution_count": 13,
   "id": "27caed91-67b4-4143-99a1-45fc334e7acc",
   "metadata": {},
   "outputs": [],
   "source": [
    "from torch.utils.data import DataLoader"
   ]
  },
  {
   "cell_type": "code",
   "execution_count": 14,
   "id": "fcd59ba0-8b8b-4905-86eb-bf6200eb7e4a",
   "metadata": {},
   "outputs": [],
   "source": [
    "batch_size = 8"
   ]
  },
  {
   "cell_type": "code",
   "execution_count": 15,
   "id": "4df14cb4-2cea-4b0f-a0b6-b53ef3b89cd6",
   "metadata": {},
   "outputs": [
    {
     "data": {
      "text/plain": [
       "<preprocess_dataset.NERDataset at 0x7f4c834b9730>"
      ]
     },
     "execution_count": 15,
     "metadata": {},
     "output_type": "execute_result"
    }
   ],
   "source": [
    "pytorch_dataset_train"
   ]
  },
  {
   "cell_type": "code",
   "execution_count": 16,
   "id": "63cd8df8-7448-457a-b082-b4c01b73f85f",
   "metadata": {},
   "outputs": [],
   "source": [
    "teste = iter(DataLoader(pytorch_dataset_train ,batch_size=batch_size))"
   ]
  },
  {
   "cell_type": "code",
   "execution_count": 17,
   "id": "146e947c-2e32-4fc7-9155-e7172487dfa5",
   "metadata": {},
   "outputs": [],
   "source": [
    "mini_batch = next(teste)"
   ]
  },
  {
   "cell_type": "markdown",
   "id": "1ddd448b-47e5-4bdc-b816-bf7d04f6f646",
   "metadata": {},
   "source": [
    "----------------------------------------"
   ]
  },
  {
   "cell_type": "markdown",
   "id": "f6fbe6e5-4481-4a29-a7fa-61727996defe",
   "metadata": {},
   "source": [
    "## Testando passar um minibatch ao modelo"
   ]
  },
  {
   "cell_type": "code",
   "execution_count": 18,
   "id": "a8acc3eb-36ef-4b1d-8730-5d4cf474bce4",
   "metadata": {},
   "outputs": [
    {
     "name": "stdout",
     "output_type": "stream",
     "text": [
      "{'id': tensor([0, 1, 2, 3, 4, 5, 6, 7]), 'input_ids': tensor([[[  192,  7463,  8427,  ...,     0,     0,     0]],\n",
      "\n",
      "        [[  118,   231,  1328,  ...,     0,     0,     0]],\n",
      "\n",
      "        [[  118,  9633,   214,  ...,     0,     0,     0]],\n",
      "\n",
      "        ...,\n",
      "\n",
      "        [[  354,   119,   189,  ...,     0,     0,     0]],\n",
      "\n",
      "        [[  257,  5476, 15289,  ...,     0,     0,     0]],\n",
      "\n",
      "        [[  290,   119,     0,  ...,     0,     0,     0]]]), 'attention_mask': tensor([[[1, 1, 1,  ..., 0, 0, 0]],\n",
      "\n",
      "        [[1, 1, 1,  ..., 0, 0, 0]],\n",
      "\n",
      "        [[1, 1, 1,  ..., 0, 0, 0]],\n",
      "\n",
      "        ...,\n",
      "\n",
      "        [[1, 1, 1,  ..., 0, 0, 0]],\n",
      "\n",
      "        [[1, 1, 1,  ..., 0, 0, 0]],\n",
      "\n",
      "        [[1, 1, 0,  ..., 0, 0, 0]]]), 'targets': tensor([[0, 0, 0,  ..., 0, 0, 0],\n",
      "        [0, 0, 9,  ..., 0, 0, 0],\n",
      "        [0, 0, 0,  ..., 0, 0, 0],\n",
      "        ...,\n",
      "        [0, 0, 0,  ..., 0, 0, 0],\n",
      "        [0, 0, 0,  ..., 0, 0, 0],\n",
      "        [0, 0, 0,  ..., 0, 0, 0]])}\n"
     ]
    }
   ],
   "source": [
    "print(mini_batch)"
   ]
  },
  {
   "cell_type": "code",
   "execution_count": 19,
   "id": "948e4f05-d0a2-456f-a1a4-10b391eca0a3",
   "metadata": {},
   "outputs": [],
   "source": [
    "ids = mini_batch['input_ids'].squeeze().to(\"cuda\", dtype = torch.long) # Remove a dimensão 1 ali do meio, talvez funcione?\n",
    "att = mini_batch['attention_mask'].to(\"cuda\", dtype = torch.long)\n",
    "targets = mini_batch['targets'].to(\"cuda\", dtype = torch.long)"
   ]
  },
  {
   "cell_type": "code",
   "execution_count": 20,
   "id": "58c82c3b-a348-42a4-8d42-81898b046298",
   "metadata": {},
   "outputs": [
    {
     "name": "stdout",
     "output_type": "stream",
     "text": [
      "torch.Size([8, 256])\n"
     ]
    }
   ],
   "source": [
    "print(ids.shape)"
   ]
  },
  {
   "cell_type": "code",
   "execution_count": 21,
   "id": "7937d5d3-9719-4adf-9223-b0e617d86438",
   "metadata": {},
   "outputs": [],
   "source": [
    "#model = model.to(\"cuda\")"
   ]
  },
  {
   "cell_type": "code",
   "execution_count": 22,
   "id": "f51068b6-14d1-4216-a594-82ba7d4b1736",
   "metadata": {},
   "outputs": [],
   "source": [
    "outs = model(ids, att, labels=targets)"
   ]
  },
  {
   "cell_type": "code",
   "execution_count": 23,
   "id": "09e13bff-406e-40c0-91b8-f8def0d61fe4",
   "metadata": {},
   "outputs": [
    {
     "data": {
      "text/plain": [
       "TokenClassifierOutput(loss=tensor(2.6489, device='cuda:0', grad_fn=<NllLossBackward>), logits=tensor([[[-0.0260,  0.2949,  0.0579,  ..., -0.1163,  0.1478, -0.4721],\n",
       "         [ 0.6680, -0.1135, -0.7813,  ...,  0.0356,  0.1786, -0.1851],\n",
       "         [ 0.0152, -0.5089,  0.2501,  ..., -0.1331,  0.2662,  0.0662],\n",
       "         ...,\n",
       "         [ 0.3990, -0.0729, -0.0771,  ...,  0.3480, -0.0042, -0.0987],\n",
       "         [ 0.0696,  0.3867, -0.1915,  ...,  0.2513,  0.1726, -0.1915],\n",
       "         [ 0.2994,  0.0285, -0.2428,  ...,  0.1533,  0.0125, -0.2019]],\n",
       "\n",
       "        [[-0.4853,  0.0252,  0.2412,  ...,  0.0554, -0.1104, -0.0533],\n",
       "         [-0.2360, -0.4291,  0.1323,  ..., -0.8141,  0.1200,  0.3650],\n",
       "         [-0.1512,  0.0567,  0.4187,  ...,  0.1329, -0.0488,  0.5025],\n",
       "         ...,\n",
       "         [ 0.0616, -0.0823,  0.1395,  ..., -0.2458,  0.3532, -0.0763],\n",
       "         [ 0.1740, -0.2248,  0.4350,  ..., -0.3108,  0.2360, -0.3410],\n",
       "         [ 0.1605, -0.2938,  0.4327,  ..., -0.4034,  0.3444, -0.2212]],\n",
       "\n",
       "        [[-0.5247,  0.1942,  0.2241,  ...,  0.0455, -0.0375, -0.1797],\n",
       "         [-0.3818, -0.1789, -0.0625,  ..., -0.4878, -0.9069,  0.1468],\n",
       "         [-0.6499, -0.2224, -0.1552,  ..., -0.5038, -0.2233,  0.2159],\n",
       "         ...,\n",
       "         [ 0.1805, -0.0300,  0.3843,  ..., -0.0910,  0.1482,  0.1877],\n",
       "         [-0.0568,  0.0865,  0.4747,  ..., -0.2990,  0.0521, -0.0581],\n",
       "         [ 0.0542,  0.1380,  0.3545,  ..., -0.1269,  0.0587,  0.0502]],\n",
       "\n",
       "        ...,\n",
       "\n",
       "        [[-0.2543,  0.0372,  0.1001,  ..., -0.1781, -0.0586, -0.2837],\n",
       "         [ 0.1878,  0.1430, -0.1336,  ..., -0.0826,  0.1836,  0.2370],\n",
       "         [ 0.1196,  0.2506,  0.3867,  ..., -0.1824,  0.1847,  0.3899],\n",
       "         ...,\n",
       "         [-0.0103,  0.4961, -0.0807,  ...,  0.0202,  0.0839,  0.2464],\n",
       "         [-0.0375,  0.3270, -0.0229,  ...,  0.1752,  0.2087,  0.1482],\n",
       "         [ 0.2059,  0.1146,  0.0282,  ...,  0.0667,  0.0587,  0.4167]],\n",
       "\n",
       "        [[-0.1426,  0.2930, -0.0947,  ..., -0.0907,  0.1242, -0.3241],\n",
       "         [ 0.0705,  0.0895, -0.2836,  ..., -0.4256,  0.0168,  0.0655],\n",
       "         [-0.2343, -0.1632, -0.0428,  ..., -0.4673, -0.1417, -0.2839],\n",
       "         ...,\n",
       "         [ 0.1984,  0.1605, -0.2636,  ..., -0.0245, -0.2643, -0.0231],\n",
       "         [-0.0613, -0.0474, -0.2046,  ..., -0.2917,  0.0831, -0.0260],\n",
       "         [ 0.0699,  0.0255, -0.2102,  ..., -0.2136,  0.0248, -0.0683]],\n",
       "\n",
       "        [[-0.0744,  0.2213,  0.1491,  ...,  0.1312,  0.0030, -0.0478],\n",
       "         [ 0.1925,  0.1220, -0.0020,  ...,  0.1766,  0.1371,  0.0454],\n",
       "         [ 0.2010,  0.0847,  0.3456,  ...,  0.4915, -0.1457,  0.0539],\n",
       "         ...,\n",
       "         [ 0.1429,  0.0868,  0.3292,  ...,  0.4566, -0.1413, -0.0948],\n",
       "         [ 0.1519,  0.0892,  0.3403,  ...,  0.4696, -0.1478, -0.0586],\n",
       "         [ 0.1369,  0.0838,  0.3423,  ...,  0.4589, -0.1453, -0.0502]]],\n",
       "       device='cuda:0', grad_fn=<AddBackward0>), hidden_states=None, attentions=None)"
      ]
     },
     "execution_count": 23,
     "metadata": {},
     "output_type": "execute_result"
    }
   ],
   "source": [
    "outs"
   ]
  },
  {
   "cell_type": "markdown",
   "id": "6ceab436-a34f-4736-8796-2a9b15eff4dc",
   "metadata": {},
   "source": [
    "## Treinando o modelo\n",
    "\n",
    "Usando parametros padrão por enquanto só pra ver se ta tudo indo certindo"
   ]
  },
  {
   "cell_type": "code",
   "execution_count": 24,
   "id": "0914c77b-85a9-420e-b176-5ba779db60c7",
   "metadata": {},
   "outputs": [],
   "source": [
    "from trainner import Trainner, create_data_loader\n",
    "from transformers import AdamW"
   ]
  },
  {
   "cell_type": "markdown",
   "id": "02601ad0-e5e3-4cf8-9590-376f093eda3e",
   "metadata": {},
   "source": [
    "### Parametros\n",
    "\n",
    "\n",
    "* batch sizes: 8, 16, 32, 64, 128\n",
    "* learning rates: 3e-4, 1e-4, 5e-5, 3e-5\n",
    "\n",
    "Do paper do BERT. Vou colocar num_workers = 4 por enquanto.\n"
   ]
  },
  {
   "cell_type": "markdown",
   "id": "5ce1dd58-1595-426d-b99f-2217479c4a66",
   "metadata": {},
   "source": [
    "Uma melhoria é esconder o data_loader de clientes. Isso é detalhe de implementaçãõ, ou deveria estar na classe NERDataset"
   ]
  },
  {
   "cell_type": "code",
   "execution_count": 25,
   "id": "fa9f1459-1272-4515-800b-dac39bd7c8be",
   "metadata": {},
   "outputs": [],
   "source": [
    "optimizer = AdamW(model.parameters(), lr=3e-4, correct_bias=False)"
   ]
  },
  {
   "cell_type": "code",
   "execution_count": 26,
   "id": "358e4323-0b20-41cc-b99e-6cf919520f6a",
   "metadata": {},
   "outputs": [
    {
     "data": {
      "text/plain": [
       "7827"
      ]
     },
     "execution_count": 26,
     "metadata": {},
     "output_type": "execute_result"
    }
   ],
   "source": [
    "len(pytorch_dataset_train)"
   ]
  },
  {
   "cell_type": "code",
   "execution_count": 27,
   "id": "c793179b-78ac-4be4-83c9-f2a9026202ea",
   "metadata": {},
   "outputs": [],
   "source": [
    "loader = DataLoader(pytorch_dataset_train, batch_size=8)"
   ]
  },
  {
   "cell_type": "code",
   "execution_count": 28,
   "id": "dac00bb0-5854-41f8-a14a-ba7b178facc6",
   "metadata": {},
   "outputs": [],
   "source": [
    "device = torch.device(\"cuda\" if torch.cuda.is_available() else \"cpu\")"
   ]
  },
  {
   "cell_type": "code",
   "execution_count": 29,
   "id": "87ddcc80-c1bf-49fa-9464-496ec1aa0c34",
   "metadata": {},
   "outputs": [
    {
     "data": {
      "text/plain": [
       "True"
      ]
     },
     "execution_count": 29,
     "metadata": {},
     "output_type": "execute_result"
    }
   ],
   "source": [
    "next(model.parameters()).is_cuda"
   ]
  },
  {
   "cell_type": "code",
   "execution_count": 30,
   "id": "f771a8fe-dcbb-4a0e-9348-a66ff3a7aaf8",
   "metadata": {},
   "outputs": [],
   "source": [
    "tr = Trainner(device, loader, model, optimizer)"
   ]
  },
  {
   "cell_type": "code",
   "execution_count": 31,
   "id": "ea4dd2f2-24af-4778-b918-6cfc6cf9f91e",
   "metadata": {},
   "outputs": [
    {
     "name": "stdout",
     "output_type": "stream",
     "text": [
      "tensor(2.6748, device='cuda:0', grad_fn=<NllLossBackward>)\n",
      "tensor(0.6049, device='cuda:0', grad_fn=<NllLossBackward>)\n",
      "tensor(7.2815, device='cuda:0', grad_fn=<NllLossBackward>)\n",
      "tensor(0.1112, device='cuda:0', grad_fn=<NllLossBackward>)\n",
      "tensor(0.9963, device='cuda:0', grad_fn=<NllLossBackward>)\n",
      "tensor(0.4633, device='cuda:0', grad_fn=<NllLossBackward>)\n",
      "tensor(0.2077, device='cuda:0', grad_fn=<NllLossBackward>)\n",
      "tensor(0.9723, device='cuda:0', grad_fn=<NllLossBackward>)\n",
      "tensor(0.3948, device='cuda:0', grad_fn=<NllLossBackward>)\n",
      "tensor(0.4448, device='cuda:0', grad_fn=<NllLossBackward>)\n",
      "Bati o limite, chega!\n"
     ]
    }
   ],
   "source": [
    "losses, media = tr._train_epoch()"
   ]
  },
  {
   "cell_type": "code",
   "execution_count": 32,
   "id": "0e3f82a6-3f0c-494f-940f-2e444b1afc37",
   "metadata": {},
   "outputs": [
    {
     "data": {
      "text/plain": [
       "[2.6747524738311768,\n",
       " 0.604868471622467,\n",
       " 7.281510353088379,\n",
       " 0.11121179163455963,\n",
       " 0.9962637424468994,\n",
       " 0.4632624089717865,\n",
       " 0.20766881108283997,\n",
       " 0.9722746014595032,\n",
       " 0.39484304189682007,\n",
       " 0.4448015093803406]"
      ]
     },
     "execution_count": 32,
     "metadata": {},
     "output_type": "execute_result"
    }
   ],
   "source": [
    "losses"
   ]
  },
  {
   "cell_type": "code",
   "execution_count": 35,
   "id": "6883c3d1-70ec-4a15-8a27-cdab106af8d0",
   "metadata": {},
   "outputs": [],
   "source": [
    "from matplotlib import pyplot as plt"
   ]
  },
  {
   "cell_type": "code",
   "execution_count": 36,
   "id": "1abadc24-2a2b-4643-ad54-fd3a1425f2ce",
   "metadata": {},
   "outputs": [
    {
     "data": {
      "text/plain": [
       "[<matplotlib.lines.Line2D at 0x7f4c78cfc730>]"
      ]
     },
     "execution_count": 36,
     "metadata": {},
     "output_type": "execute_result"
    },
    {
     "data": {
      "image/png": "[encoded data removed]",
      "text/plain": [
       "<Figure size 432x288 with 1 Axes>"
      ]
     },
     "metadata": {
      "needs_background": "light"
     },
     "output_type": "display_data"
    }
   ],
   "source": [
    "plt.plot(losses)"
   ]
  }
 ],
 "metadata": {
  "kernelspec": {
   "display_name": "Python 3 (ipykernel)",
   "language": "python",
   "name": "python3"
  },
  "language_info": {
   "codemirror_mode": {
    "name": "ipython",
    "version": 3
   },
   "file_extension": ".py",
   "mimetype": "text/x-python",
   "name": "python",
   "nbconvert_exporter": "python",
   "pygments_lexer": "ipython3",
   "version": "3.8.10"
  }
 },
 "nbformat": 4,
 "nbformat_minor": 5
}
