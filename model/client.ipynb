{
 "cells": [
  {
   "cell_type": "markdown",
   "id": "89390d63-bf24-48f0-9cc0-54df3c5f1367",
   "metadata": {},
   "source": [
    "# Notebook de cliente"
   ]
  },
  {
   "cell_type": "code",
   "execution_count": 1,
   "id": "0213afb0-1e79-4fff-88e0-1299b29924da",
   "metadata": {},
   "outputs": [],
   "source": [
    "from datasets import load_dataset\n",
    "from model import NERClassifier\n",
    "from preprocess_dataset import NERDataset \n",
    "from trainner import Trainner\n",
    "from transformers import BertTokenizerFast\n",
    "from preprocess_dataset import remove_empty_entries\n",
    "\n",
    "import torch"
   ]
  },
  {
   "cell_type": "markdown",
   "id": "d04d0198-4103-4d77-b5a5-d76616a844bf",
   "metadata": {},
   "source": [
    "## Setups"
   ]
  },
  {
   "cell_type": "code",
   "execution_count": 2,
   "id": "bd363303-49e9-4673-8b3e-de53bcc8869a",
   "metadata": {},
   "outputs": [],
   "source": [
    "CHECKPOINT = 'neuralmind/bert-base-portuguese-cased'\n",
    "tokenizer = BertTokenizerFast.from_pretrained(CHECKPOINT)"
   ]
  },
  {
   "cell_type": "code",
   "execution_count": 3,
   "id": "c89f938e-9f86-4f8c-966f-21a724411c2b",
   "metadata": {},
   "outputs": [
    {
     "name": "stderr",
     "output_type": "stream",
     "text": [
      "Reusing dataset lener_br (/home/caiotulio/.cache/huggingface/datasets/lener_br/lener_br/1.0.0/4a8c97e6813b5c2d85a50faf0a3e6c24ea82f4a9044e6e9e8b24997d27399382)\n",
      "Loading cached processed dataset at /home/caiotulio/.cache/huggingface/datasets/lener_br/lener_br/1.0.0/4a8c97e6813b5c2d85a50faf0a3e6c24ea82f4a9044e6e9e8b24997d27399382/cache-5e59bc59f25f3d7f.arrow\n",
      "Loading cached processed dataset at /home/caiotulio/.cache/huggingface/datasets/lener_br/lener_br/1.0.0/4a8c97e6813b5c2d85a50faf0a3e6c24ea82f4a9044e6e9e8b24997d27399382/cache-8d0457760cd67ee6.arrow\n",
      "Loading cached processed dataset at /home/caiotulio/.cache/huggingface/datasets/lener_br/lener_br/1.0.0/4a8c97e6813b5c2d85a50faf0a3e6c24ea82f4a9044e6e9e8b24997d27399382/cache-74e841c1c151996a.arrow\n"
     ]
    }
   ],
   "source": [
    "data = \"lener_br\"\n",
    "dataset = load_dataset(data)\n",
    "dataset = remove_empty_entries(dataset)"
   ]
  },
  {
   "cell_type": "code",
   "execution_count": 4,
   "id": "b20e8238-f4c0-4063-a393-0e5a6a76e5c4",
   "metadata": {},
   "outputs": [],
   "source": [
    "MAX_LEN = 128\n",
    "n_labels = 13 #TODO: por enquanto hardcodado "
   ]
  },
  {
   "cell_type": "code",
   "execution_count": 5,
   "id": "0a3cbc51-32d6-44bf-ba40-90a84cd0189c",
   "metadata": {},
   "outputs": [],
   "source": [
    "pytorch_dataset_train = NERDataset(data=dataset['train'], max_len=MAX_LEN, tokenizer=tokenizer)\n",
    "teste = pytorch_dataset_train[0]"
   ]
  },
  {
   "cell_type": "code",
   "execution_count": 6,
   "id": "e5d5a466-5f3e-41c1-a98d-6da21bd8453b",
   "metadata": {},
   "outputs": [
    {
     "name": "stderr",
     "output_type": "stream",
     "text": [
      "Some weights of the model checkpoint at neuralmind/bert-base-portuguese-cased were not used when initializing BertForTokenClassification: ['cls.seq_relationship.weight', 'cls.predictions.bias', 'cls.predictions.transform.LayerNorm.weight', 'cls.predictions.transform.dense.weight', 'cls.predictions.decoder.weight', 'cls.seq_relationship.bias', 'cls.predictions.transform.dense.bias', 'cls.predictions.transform.LayerNorm.bias']\n",
      "- This IS expected if you are initializing BertForTokenClassification from the checkpoint of a model trained on another task or with another architecture (e.g. initializing a BertForSequenceClassification model from a BertForPreTraining model).\n",
      "- This IS NOT expected if you are initializing BertForTokenClassification from the checkpoint of a model that you expect to be exactly identical (initializing a BertForSequenceClassification model from a BertForSequenceClassification model).\n",
      "Some weights of BertForTokenClassification were not initialized from the model checkpoint at neuralmind/bert-base-portuguese-cased and are newly initialized: ['classifier.bias', 'classifier.weight']\n",
      "You should probably TRAIN this model on a down-stream task to be able to use it for predictions and inference.\n"
     ]
    }
   ],
   "source": [
    "model = NERClassifier(n_labels=n_labels, checkpoint=CHECKPOINT)"
   ]
  },
  {
   "cell_type": "markdown",
   "id": "1ddd448b-47e5-4bdc-b816-bf7d04f6f646",
   "metadata": {},
   "source": [
    "----------------------------------------"
   ]
  },
  {
   "cell_type": "markdown",
   "id": "6ceab436-a34f-4736-8796-2a9b15eff4dc",
   "metadata": {},
   "source": [
    "## Treinando o modelo\n",
    "\n",
    "Usando parametros padrão por enquanto só pra ver se ta tudo indo certindo"
   ]
  },
  {
   "cell_type": "code",
   "execution_count": 7,
   "id": "0914c77b-85a9-420e-b176-5ba779db60c7",
   "metadata": {},
   "outputs": [],
   "source": [
    "from trainner import Trainner, create_data_loader\n",
    "from transformers import AdamW\n",
    "from torch.utils.data import DataLoader"
   ]
  },
  {
   "cell_type": "markdown",
   "id": "02601ad0-e5e3-4cf8-9590-376f093eda3e",
   "metadata": {},
   "source": [
    "### Parametros\n",
    "\n",
    "\n",
    "* batch sizes: 8, 16, 32, 64, 128\n",
    "* learning rates: 3e-4, 1e-4, 5e-5, 3e-5\n",
    "\n",
    "Do paper do BERT. Vou colocar num_workers = 4 por enquanto.\n"
   ]
  },
  {
   "cell_type": "markdown",
   "id": "5ce1dd58-1595-426d-b99f-2217479c4a66",
   "metadata": {},
   "source": [
    "Uma melhoria é esconder o data_loader de clientes. Isso é detalhe de implementaçãõ, ou deveria estar na classe NERDataset"
   ]
  },
  {
   "cell_type": "code",
   "execution_count": 8,
   "id": "fa9f1459-1272-4515-800b-dac39bd7c8be",
   "metadata": {},
   "outputs": [],
   "source": [
    "optimizer = AdamW(model.parameters(), lr=3e-4, correct_bias=False)"
   ]
  },
  {
   "cell_type": "code",
   "execution_count": 9,
   "id": "358e4323-0b20-41cc-b99e-6cf919520f6a",
   "metadata": {},
   "outputs": [
    {
     "data": {
      "text/plain": [
       "7827"
      ]
     },
     "execution_count": 9,
     "metadata": {},
     "output_type": "execute_result"
    }
   ],
   "source": [
    "len(pytorch_dataset_train)"
   ]
  },
  {
   "cell_type": "code",
   "execution_count": 10,
   "id": "c793179b-78ac-4be4-83c9-f2a9026202ea",
   "metadata": {},
   "outputs": [],
   "source": [
    "loader = DataLoader(pytorch_dataset_train, batch_size=8, shuffle=True)"
   ]
  },
  {
   "cell_type": "code",
   "execution_count": 11,
   "id": "dac00bb0-5854-41f8-a14a-ba7b178facc6",
   "metadata": {},
   "outputs": [],
   "source": [
    "device = torch.device(\"cuda\" if torch.cuda.is_available() else \"cpu\")"
   ]
  },
  {
   "cell_type": "code",
   "execution_count": 12,
   "id": "87ddcc80-c1bf-49fa-9464-496ec1aa0c34",
   "metadata": {},
   "outputs": [
    {
     "data": {
      "text/plain": [
       "False"
      ]
     },
     "execution_count": 12,
     "metadata": {},
     "output_type": "execute_result"
    }
   ],
   "source": [
    "next(model.parameters()).is_cuda"
   ]
  },
  {
   "cell_type": "code",
   "execution_count": 13,
   "id": "f771a8fe-dcbb-4a0e-9348-a66ff3a7aaf8",
   "metadata": {},
   "outputs": [],
   "source": [
    "tr = Trainner(device, loader, model, optimizer, max_len=128, num_examples=len(pytorch_dataset_train), num_epochs=1)"
   ]
  },
  {
   "cell_type": "code",
   "execution_count": 14,
   "id": "ea4dd2f2-24af-4778-b918-6cfc6cf9f91e",
   "metadata": {},
   "outputs": [
    {
     "name": "stdout",
     "output_type": "stream",
     "text": [
      "Treinando em cuda\n",
      "Iteração 0 -------- Loss: 2.5245063304901123 f1 nas ultimas 100 iterações: 0.001692532933408846 ------ Progresso: 0.00%.\n",
      "Iteração 100 -------- Loss: 1.2976526021957397 f1 nas ultimas 100 iterações: 0.7953063325147576 ------ Progresso: 10.21%.\n",
      "Iteração 200 -------- Loss: 0.36282482743263245 f1 nas ultimas 100 iterações: 0.8245780689375267 ------ Progresso: 20.43%.\n",
      "Iteração 300 -------- Loss: 1.125670313835144 f1 nas ultimas 100 iterações: 0.8075478375811918 ------ Progresso: 30.64%.\n",
      "Iteração 400 -------- Loss: 0.8367236256599426 f1 nas ultimas 100 iterações: 0.7981979229451158 ------ Progresso: 40.86%.\n",
      "Iteração 500 -------- Loss: 0.1903146654367447 f1 nas ultimas 100 iterações: 0.8175964924934246 ------ Progresso: 51.07%.\n",
      "Iteração 600 -------- Loss: 0.5109924674034119 f1 nas ultimas 100 iterações: 0.8177118153857805 ------ Progresso: 61.29%.\n",
      "Iteração 700 -------- Loss: 1.2688935995101929 f1 nas ultimas 100 iterações: 0.8266839287876416 ------ Progresso: 71.50%.\n",
      "Iteração 800 -------- Loss: 0.8662630915641785 f1 nas ultimas 100 iterações: 0.8205856947853499 ------ Progresso: 81.72%.\n",
      "Iteração 900 -------- Loss: 0.707805335521698 f1 nas ultimas 100 iterações: 0.8217290609605691 ------ Progresso: 91.93%.\n",
      "CPU times: user 3min 8s, sys: 28.3 s, total: 3min 36s\n",
      "Wall time: 3min 36s\n"
     ]
    }
   ],
   "source": [
    "%%time\n",
    "losses, f1 = tr._train_epoch()"
   ]
  },
  {
   "cell_type": "markdown",
   "id": "b05f4200-b845-4840-82df-7895a5400e55",
   "metadata": {},
   "source": []
  },
  {
   "cell_type": "code",
   "execution_count": 15,
   "id": "6883c3d1-70ec-4a15-8a27-cdab106af8d0",
   "metadata": {},
   "outputs": [],
   "source": [
    "from matplotlib import pyplot as plt"
   ]
  },
  {
   "cell_type": "code",
   "execution_count": 16,
   "id": "1abadc24-2a2b-4643-ad54-fd3a1425f2ce",
   "metadata": {},
   "outputs": [
    {
     "data": {
      "text/plain": [
       "[<matplotlib.lines.Line2D at 0x7fa7fa0be880>]"
      ]
     },
     "execution_count": 16,
     "metadata": {},
     "output_type": "execute_result"
    },
    {
     "data": {
      "image/png": "[encoded data removed]",
      "text/plain": [
       "<Figure size 432x288 with 1 Axes>"
      ]
     },
     "metadata": {
      "needs_background": "light"
     },
     "output_type": "display_data"
    }
   ],
   "source": [
    "plt.plot(f1)"
   ]
  },
  {
   "cell_type": "code",
   "execution_count": 17,
   "id": "b0da5424-5553-474e-893b-78d061eee6f9",
   "metadata": {},
   "outputs": [],
   "source": [
    "import numpy as np"
   ]
  },
  {
   "cell_type": "code",
   "execution_count": 18,
   "id": "f774b234-85d0-4a37-8e33-07a07a69af9e",
   "metadata": {},
   "outputs": [
    {
     "data": {
      "text/plain": [
       "0.8145048298178568"
      ]
     },
     "execution_count": 18,
     "metadata": {},
     "output_type": "execute_result"
    }
   ],
   "source": [
    "np.mean(f1)"
   ]
  },
  {
   "cell_type": "markdown",
   "id": "50f5f8b1-5f10-4e25-8b86-c0b73cb3b0d2",
   "metadata": {},
   "source": [
    "Os Losses estão aleatorios, no entanto, o f1 está ótimo. Em media 0.8 na primeira passada é um resultado bem legal. Vou avaliar agora se ele muda entre passadas"
   ]
  },
  {
   "cell_type": "markdown",
   "id": "f4750ea3-438b-4146-acef-e5f9fce56c16",
   "metadata": {},
   "source": [
    "## Comparando f1_score ao longo de épocas"
   ]
  },
  {
   "cell_type": "markdown",
   "id": "b7ca53f2-1dbe-42f0-ad44-00a5677ca25b",
   "metadata": {},
   "source": [
    "## Avaliando o modelo com o conjunto de dados de teste"
   ]
  },
  {
   "cell_type": "code",
   "execution_count": 19,
   "id": "9d94571f-0ed1-4c98-acf4-b4cda153b49c",
   "metadata": {},
   "outputs": [],
   "source": [
    "pytorch_dataset_test = NERDataset(data=dataset['test'], max_len=MAX_LEN, tokenizer=tokenizer)"
   ]
  },
  {
   "cell_type": "code",
   "execution_count": 20,
   "id": "48268786-d9a7-4292-9f3a-4f30eb186d4e",
   "metadata": {},
   "outputs": [],
   "source": [
    "ds_test = DataLoader(pytorch_dataset_test, batch_size=8, shuffle=True)"
   ]
  },
  {
   "cell_type": "code",
   "execution_count": 21,
   "id": "45d44381-c1aa-4fd7-8656-4c10a3ca048a",
   "metadata": {},
   "outputs": [],
   "source": [
    "import evaluator"
   ]
  },
  {
   "cell_type": "code",
   "execution_count": 22,
   "id": "798758af-2dca-4a79-a844-f3431f04c82e",
   "metadata": {},
   "outputs": [],
   "source": [
    "from importlib import reload"
   ]
  },
  {
   "cell_type": "code",
   "execution_count": 23,
   "id": "f05dffd3-b9e2-4010-b2a1-fe45f5005f51",
   "metadata": {},
   "outputs": [
    {
     "data": {
      "text/plain": [
       "<module 'evaluator' from '/home/caiotulio/MAC0499/model/evaluator.py'>"
      ]
     },
     "execution_count": 23,
     "metadata": {},
     "output_type": "execute_result"
    }
   ],
   "source": [
    "reload(evaluator)"
   ]
  },
  {
   "cell_type": "code",
   "execution_count": 24,
   "id": "0ba4a3aa-d38c-4870-b486-3765b419a0ce",
   "metadata": {},
   "outputs": [
    {
     "name": "stdout",
     "output_type": "stream",
     "text": [
      "Iteração 100 -------- Loss: 0.5572746992111206 f1 nas ultimas 100 iterações: 0.8456629048662913 ------ Progresso: 57.47%.\n"
     ]
    }
   ],
   "source": [
    "l_eval, f1_eval = evaluator.evaluate(model, ds_test, 'cuda')"
   ]
  },
  {
   "cell_type": "code",
   "execution_count": 25,
   "id": "41ee7dd3-8293-43e7-9b16-01bceaf76eaf",
   "metadata": {},
   "outputs": [
    {
     "data": {
      "text/plain": [
       "0.5655802151766317"
      ]
     },
     "execution_count": 25,
     "metadata": {},
     "output_type": "execute_result"
    }
   ],
   "source": [
    "np.mean(l_eval)"
   ]
  },
  {
   "cell_type": "code",
   "execution_count": 26,
   "id": "190ee6a9-0c3c-4f3c-a190-5f2a5e925d7f",
   "metadata": {},
   "outputs": [
    {
     "data": {
      "text/plain": [
       "0.8398123952855756"
      ]
     },
     "execution_count": 26,
     "metadata": {},
     "output_type": "execute_result"
    }
   ],
   "source": [
    "np.mean(f1_eval)"
   ]
  },
  {
   "cell_type": "code",
   "execution_count": 27,
   "id": "1551b5f0-b23b-410d-958f-111f5f834511",
   "metadata": {},
   "outputs": [
    {
     "data": {
      "text/plain": [
       "[<matplotlib.lines.Line2D at 0x7fa7f9ff51f0>]"
      ]
     },
     "execution_count": 27,
     "metadata": {},
     "output_type": "execute_result"
    },
    {
     "data": {
      "image/png": "[encoded data removed]",
      "text/plain": [
       "<Figure size 432x288 with 1 Axes>"
      ]
     },
     "metadata": {
      "needs_background": "light"
     },
     "output_type": "display_data"
    }
   ],
   "source": [
    "plt.plot(f1_eval)"
   ]
  },
  {
   "cell_type": "code",
   "execution_count": null,
   "id": "89dc0c12-0765-4cdb-8704-10438fb307c1",
   "metadata": {},
   "outputs": [],
   "source": []
  }
 ],
 "metadata": {
  "kernelspec": {
   "display_name": "Python 3 (ipykernel)",
   "language": "python",
   "name": "python3"
  },
  "language_info": {
   "codemirror_mode": {
    "name": "ipython",
    "version": 3
   },
   "file_extension": ".py",
   "mimetype": "text/x-python",
   "name": "python",
   "nbconvert_exporter": "python",
   "pygments_lexer": "ipython3",
   "version": "3.8.10"
  }
 },
 "nbformat": 4,
 "nbformat_minor": 5
}
