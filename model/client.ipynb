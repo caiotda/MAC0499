{
 "cells": [
  {
   "cell_type": "markdown",
   "id": "89390d63-bf24-48f0-9cc0-54df3c5f1367",
   "metadata": {},
   "source": [
    "# Notebook de cliente / Experimentação do modelo"
   ]
  },
  {
   "cell_type": "code",
   "execution_count": null,
   "id": "0213afb0-1e79-4fff-88e0-1299b29924da",
   "metadata": {},
   "outputs": [],
   "source": [
    "from datasets import load_dataset\n",
    "from model import NERClassifier\n",
    "from preprocess_dataset import NERDataset \n",
    "from trainner import Trainner\n",
    "from transformers import BertTokenizer\n",
    "from preprocess_dataset import remove_empty_entries\n",
    "\n",
    "import torch"
   ]
  },
  {
   "cell_type": "markdown",
   "id": "d04d0198-4103-4d77-b5a5-d76616a844bf",
   "metadata": {},
   "source": [
    "## Setups"
   ]
  },
  {
   "cell_type": "code",
   "execution_count": null,
   "id": "bd363303-49e9-4673-8b3e-de53bcc8869a",
   "metadata": {},
   "outputs": [],
   "source": [
    "\n",
    "CHECKPOINT = 'neuralmind/bert-base-portuguese-cased'\n",
    "tokenizer = BertTokenizer.from_pretrained(CHECKPOINT)\n",
    "data = \"lener_br\"\n",
    "dataset = load_dataset(data)\n",
    "\n",
    "dataset = remove_empty_entries(dataset)"
   ]
  },
  {
   "cell_type": "code",
   "execution_count": null,
   "id": "b20e8238-f4c0-4063-a393-0e5a6a76e5c4",
   "metadata": {},
   "outputs": [],
   "source": [
    "MAX_LEN = 256"
   ]
  },
  {
   "cell_type": "code",
   "execution_count": null,
   "id": "0a3cbc51-32d6-44bf-ba40-90a84cd0189c",
   "metadata": {},
   "outputs": [],
   "source": [
    "pytorch_dataset_train = NERDataset(data=dataset['train'], max_len=MAX_LEN, tokenizer=tokenizer)\n",
    "teste = pytorch_dataset_train[0]\n",
    "n_labels = 13 #TODO: por enquanto hardcodado \n",
    "model = NERClassifier(n_labels=n_labels, checkpoint=CHECKPOINT)\n",
    "input_ids = teste['input_ids']\n",
    "attention_mask = teste['attention_mask']\n",
    "labels = teste['targets']"
   ]
  },
  {
   "cell_type": "markdown",
   "id": "639dfd15-a212-498e-835e-5d2a4db979e7",
   "metadata": {},
   "source": []
  },
  {
   "cell_type": "markdown",
   "id": "4537e7e5-da7d-494f-a015-66c03894688a",
   "metadata": {},
   "source": [
    "## Explorando um pouco o dataset"
   ]
  },
  {
   "cell_type": "code",
   "execution_count": null,
   "id": "8d27750a-e9a3-428f-8012-1d8b4d7092dc",
   "metadata": {},
   "outputs": [],
   "source": [
    "type(dataset)"
   ]
  },
  {
   "cell_type": "code",
   "execution_count": null,
   "id": "f5c07886-acdf-4186-99ea-a0698bdb912a",
   "metadata": {},
   "outputs": [],
   "source": [
    "dataset"
   ]
  },
  {
   "cell_type": "code",
   "execution_count": null,
   "id": "e7ee3245-7c6e-409e-b7eb-c4e70d2b5171",
   "metadata": {},
   "outputs": [],
   "source": []
  },
  {
   "cell_type": "code",
   "execution_count": null,
   "id": "d5189693-79c5-43c3-9cbe-009d2221d4b7",
   "metadata": {},
   "outputs": [],
   "source": [
    "# dataset = remove_empty_entries(dataset)"
   ]
  },
  {
   "cell_type": "code",
   "execution_count": null,
   "id": "7b199353-8558-4d69-9001-dc54291f2921",
   "metadata": {},
   "outputs": [],
   "source": [
    "dataset"
   ]
  },
  {
   "cell_type": "code",
   "execution_count": null,
   "id": "1a4c3c17-ae0e-4213-83f6-f43ea756ec02",
   "metadata": {},
   "outputs": [],
   "source": [
    "max_vals = [torch.max(val['targets']) for val in pytorch_dataset_train]"
   ]
  },
  {
   "cell_type": "code",
   "execution_count": null,
   "id": "61ca0bdf-294e-41a8-aede-2d07f916e537",
   "metadata": {},
   "outputs": [],
   "source": [
    "interval = (min(max_vals).item(), max(max_vals).item())"
   ]
  },
  {
   "cell_type": "code",
   "execution_count": null,
   "id": "4eb6090f-11b2-4f5b-bc76-39e96bb43904",
   "metadata": {},
   "outputs": [],
   "source": [
    "interval"
   ]
  },
  {
   "cell_type": "code",
   "execution_count": null,
   "id": "b4764938-d372-4943-8889-81a1ddf8ee3a",
   "metadata": {},
   "outputs": [],
   "source": [
    "saida = model(input_ids, attention_mask, labels=labels)\n",
    "print(saida)"
   ]
  },
  {
   "cell_type": "markdown",
   "id": "bc95b3ef-0e0d-4a37-988c-14f7ceca42f1",
   "metadata": {},
   "source": [
    "## Convertendo predições para etiquetas\n",
    "\n",
    "Nessa sessão, vamos converter logitos em probabilidades e, então, descobrir qual a label com maior probabilidade prevista pelo modelo"
   ]
  },
  {
   "cell_type": "code",
   "execution_count": null,
   "id": "6508e00c-6155-4715-a159-c8a6d2fb58ac",
   "metadata": {},
   "outputs": [],
   "source": [
    "logits = saida['logits']"
   ]
  },
  {
   "cell_type": "code",
   "execution_count": null,
   "id": "9068c8e9-f3d6-4c6f-8f69-7f040887068c",
   "metadata": {},
   "outputs": [],
   "source": [
    "logits"
   ]
  },
  {
   "cell_type": "code",
   "execution_count": null,
   "id": "b8604966-6830-4574-b609-5521d2d714b4",
   "metadata": {},
   "outputs": [],
   "source": [
    "logits = logits.squeeze()\n",
    "print(logits.shape)"
   ]
  },
  {
   "cell_type": "code",
   "execution_count": null,
   "id": "1eb8e4ab",
   "metadata": {},
   "outputs": [],
   "source": [
    "logits"
   ]
  },
  {
   "cell_type": "code",
   "execution_count": null,
   "id": "f7a10deb",
   "metadata": {},
   "outputs": [],
   "source": [
    "from torch.nn import Sigmoid\n",
    "s = Sigmoid()"
   ]
  },
  {
   "cell_type": "code",
   "execution_count": null,
   "id": "2249572c",
   "metadata": {},
   "outputs": [],
   "source": [
    "probs = s(logits)\n",
    "print(probs)"
   ]
  },
  {
   "cell_type": "code",
   "execution_count": null,
   "id": "95e0f344",
   "metadata": {},
   "outputs": [],
   "source": [
    "probs[0]"
   ]
  },
  {
   "cell_type": "markdown",
   "id": "f2f7bb1d",
   "metadata": {},
   "source": [
    "Como um logito funciona: Um logito retornado pelo modelo tem shape \\[INPUT_SIZE, BATCH_SIZE, NUM_LABELS\\]. Nesse caso, batch_size=1 então fizemos um squeeze. Então o logito tem shape \\[input_size, num_labels\\]. Ou seja, é uma matriz onde cada linha representa uma palavra. Se passarmos o logito por um sigmoide, **a j-ésima coluna da i-ésima linha representa a probabilidade da i-ésima palavra ser da categoria j**"
   ]
  },
  {
   "cell_type": "code",
   "execution_count": null,
   "id": "864797d6-c59f-43ff-a08a-2f1afe039bb1",
   "metadata": {},
   "outputs": [],
   "source": [
    "from utils import preds_to_label_idx"
   ]
  },
  {
   "cell_type": "code",
   "execution_count": null,
   "id": "cce6a7b9",
   "metadata": {},
   "outputs": [],
   "source": [
    "preds = preds_to_label_idx(logits)"
   ]
  },
  {
   "cell_type": "code",
   "execution_count": null,
   "id": "59780529",
   "metadata": {},
   "outputs": [],
   "source": [
    "preds"
   ]
  },
  {
   "cell_type": "code",
   "execution_count": null,
   "id": "c89b0cfa",
   "metadata": {},
   "outputs": [],
   "source": [
    "preds.shape"
   ]
  },
  {
   "cell_type": "markdown",
   "id": "21d9daf3-5b07-481c-8b47-841203c901b8",
   "metadata": {},
   "source": [
    "## Testando o DataLoader"
   ]
  },
  {
   "cell_type": "code",
   "execution_count": null,
   "id": "27caed91-67b4-4143-99a1-45fc334e7acc",
   "metadata": {},
   "outputs": [],
   "source": [
    "from torch.utils.data import DataLoader"
   ]
  },
  {
   "cell_type": "code",
   "execution_count": null,
   "id": "fcd59ba0-8b8b-4905-86eb-bf6200eb7e4a",
   "metadata": {},
   "outputs": [],
   "source": [
    "batch_size = 8"
   ]
  },
  {
   "cell_type": "code",
   "execution_count": null,
   "id": "4df14cb4-2cea-4b0f-a0b6-b53ef3b89cd6",
   "metadata": {},
   "outputs": [],
   "source": [
    "pytorch_dataset_train"
   ]
  },
  {
   "cell_type": "code",
   "execution_count": null,
   "id": "63cd8df8-7448-457a-b082-b4c01b73f85f",
   "metadata": {},
   "outputs": [],
   "source": [
    "teste = iter(DataLoader(pytorch_dataset_train ,batch_size=batch_size))"
   ]
  },
  {
   "cell_type": "code",
   "execution_count": null,
   "id": "146e947c-2e32-4fc7-9155-e7172487dfa5",
   "metadata": {},
   "outputs": [],
   "source": [
    "mini_batch = next(teste)"
   ]
  },
  {
   "cell_type": "markdown",
   "id": "1ddd448b-47e5-4bdc-b816-bf7d04f6f646",
   "metadata": {},
   "source": [
    "----------------------------------------"
   ]
  },
  {
   "cell_type": "markdown",
   "id": "f6fbe6e5-4481-4a29-a7fa-61727996defe",
   "metadata": {},
   "source": [
    "## Testando passar um minibatch ao modelo"
   ]
  },
  {
   "cell_type": "code",
   "execution_count": null,
   "id": "a8acc3eb-36ef-4b1d-8730-5d4cf474bce4",
   "metadata": {},
   "outputs": [],
   "source": [
    "print(mini_batch)"
   ]
  },
  {
   "cell_type": "code",
   "execution_count": null,
   "id": "948e4f05-d0a2-456f-a1a4-10b391eca0a3",
   "metadata": {},
   "outputs": [],
   "source": [
    "ids = mini_batch['input_ids'].squeeze().to(\"cuda\", dtype = torch.long) # Remove a dimensão 1 ali do meio, talvez funcione?\n",
    "att = mini_batch['attention_mask'].to(\"cuda\", dtype = torch.long)\n",
    "targets = mini_batch['targets'].to(\"cuda\", dtype = torch.long)"
   ]
  },
  {
   "cell_type": "code",
   "execution_count": null,
   "id": "58c82c3b-a348-42a4-8d42-81898b046298",
   "metadata": {},
   "outputs": [],
   "source": [
    "print(ids.shape)"
   ]
  },
  {
   "cell_type": "code",
   "execution_count": null,
   "id": "7937d5d3-9719-4adf-9223-b0e617d86438",
   "metadata": {},
   "outputs": [],
   "source": [
    "model = model.to(\"cuda\")"
   ]
  },
  {
   "cell_type": "code",
   "execution_count": null,
   "id": "f51068b6-14d1-4216-a594-82ba7d4b1736",
   "metadata": {},
   "outputs": [],
   "source": [
    "outs = model(ids, att, labels=targets)"
   ]
  },
  {
   "cell_type": "code",
   "execution_count": null,
   "id": "09e13bff-406e-40c0-91b8-f8def0d61fe4",
   "metadata": {},
   "outputs": [],
   "source": [
    "outs"
   ]
  },
  {
   "cell_type": "markdown",
   "id": "a56fb337",
   "metadata": {},
   "source": [
    "## Convertendo logitos para labels (Em batch)\n",
    "\n",
    "Ja vimos como converter um output de batch_size=1 para labels. Agora vamos tentar pra um batch inteiro"
   ]
  },
  {
   "cell_type": "code",
   "execution_count": null,
   "id": "36831014",
   "metadata": {},
   "outputs": [],
   "source": [
    "b_logits = outs.logits"
   ]
  },
  {
   "cell_type": "code",
   "execution_count": null,
   "id": "b7c11af0",
   "metadata": {},
   "outputs": [],
   "source": [
    "b_logits.shape"
   ]
  },
  {
   "cell_type": "code",
   "execution_count": null,
   "id": "671ed8c3-c640-48f3-ab77-eab72c255c2c",
   "metadata": {},
   "outputs": [],
   "source": [
    "from utils import batch_to_labels"
   ]
  },
  {
   "cell_type": "code",
   "execution_count": null,
   "id": "c0918417-e035-4e8a-83d4-d8a65d1172fe",
   "metadata": {},
   "outputs": [],
   "source": [
    "from torch.nn import Sigmoid"
   ]
  },
  {
   "cell_type": "code",
   "execution_count": null,
   "id": "91fa9816-2716-41f3-adcb-e6b9383040a3",
   "metadata": {},
   "outputs": [],
   "source": [
    "s = Sigmoid()"
   ]
  },
  {
   "cell_type": "code",
   "execution_count": null,
   "id": "6db29743-3b23-4854-a132-5deda491965b",
   "metadata": {},
   "outputs": [],
   "source": [
    "probs = s(b_logits)"
   ]
  },
  {
   "cell_type": "code",
   "execution_count": null,
   "id": "75762a57-f9c4-491c-96ee-f9f0d9cf7837",
   "metadata": {},
   "outputs": [],
   "source": [
    "probs[0]"
   ]
  },
  {
   "cell_type": "code",
   "execution_count": null,
   "id": "0891b512-0b16-4f92-b979-b03e49e4030a",
   "metadata": {},
   "outputs": [],
   "source": [
    "from utils import preds_to_label_idx, batch_to_labels"
   ]
  },
  {
   "cell_type": "code",
   "execution_count": null,
   "id": "9bc21749-3d01-46ba-8a7a-e2b9d555ebca",
   "metadata": {},
   "outputs": [],
   "source": [
    "preds_to_label_idx(probs[0])"
   ]
  },
  {
   "cell_type": "code",
   "execution_count": null,
   "id": "80fdd657-95a7-474f-bc3a-01bbdd117291",
   "metadata": {},
   "outputs": [],
   "source": [
    "outputs = batch_to_labels(b_logits)"
   ]
  },
  {
   "cell_type": "code",
   "execution_count": null,
   "id": "a01c209d-d45e-4e7f-9676-1db1e1b8441c",
   "metadata": {},
   "outputs": [],
   "source": [
    "outputs"
   ]
  },
  {
   "cell_type": "markdown",
   "id": "6ceab436-a34f-4736-8796-2a9b15eff4dc",
   "metadata": {},
   "source": [
    "## Treinando o modelo\n",
    "\n",
    "Usando parametros padrão por enquanto só pra ver se ta tudo indo certindo"
   ]
  },
  {
   "cell_type": "code",
   "execution_count": null,
   "id": "0914c77b-85a9-420e-b176-5ba779db60c7",
   "metadata": {},
   "outputs": [],
   "source": [
    "from trainner import Trainner, create_data_loader\n",
    "from transformers import AdamW"
   ]
  },
  {
   "cell_type": "markdown",
   "id": "02601ad0-e5e3-4cf8-9590-376f093eda3e",
   "metadata": {},
   "source": [
    "### Parametros\n",
    "\n",
    "\n",
    "* batch sizes: 8, 16, 32, 64, 128\n",
    "* learning rates: 3e-4, 1e-4, 5e-5, 3e-5\n",
    "\n",
    "Do paper do BERT. Vou colocar num_workers = 4 por enquanto.\n"
   ]
  },
  {
   "cell_type": "markdown",
   "id": "5ce1dd58-1595-426d-b99f-2217479c4a66",
   "metadata": {},
   "source": [
    "Uma melhoria é esconder o data_loader de clientes. Isso é detalhe de implementaçãõ, ou deveria estar na classe NERDataset"
   ]
  },
  {
   "cell_type": "code",
   "execution_count": null,
   "id": "fa9f1459-1272-4515-800b-dac39bd7c8be",
   "metadata": {},
   "outputs": [],
   "source": [
    "optimizer = AdamW(model.parameters(), lr=3e-4, correct_bias=False)"
   ]
  },
  {
   "cell_type": "code",
   "execution_count": null,
   "id": "358e4323-0b20-41cc-b99e-6cf919520f6a",
   "metadata": {},
   "outputs": [],
   "source": [
    "len(pytorch_dataset_train)"
   ]
  },
  {
   "cell_type": "code",
   "execution_count": null,
   "id": "c793179b-78ac-4be4-83c9-f2a9026202ea",
   "metadata": {},
   "outputs": [],
   "source": [
    "loader = DataLoader(pytorch_dataset_train, batch_size=8)"
   ]
  },
  {
   "cell_type": "code",
   "execution_count": null,
   "id": "dac00bb0-5854-41f8-a14a-ba7b178facc6",
   "metadata": {},
   "outputs": [],
   "source": [
    "device = torch.device(\"cuda\" if torch.cuda.is_available() else \"cpu\")"
   ]
  },
  {
   "cell_type": "code",
   "execution_count": null,
   "id": "87ddcc80-c1bf-49fa-9464-496ec1aa0c34",
   "metadata": {},
   "outputs": [],
   "source": [
    "next(model.parameters()).is_cuda"
   ]
  },
  {
   "cell_type": "code",
   "execution_count": null,
   "id": "f771a8fe-dcbb-4a0e-9348-a66ff3a7aaf8",
   "metadata": {},
   "outputs": [],
   "source": [
    "tr = Trainner(device, loader, model, optimizer)"
   ]
  },
  {
   "cell_type": "code",
   "execution_count": null,
   "id": "ea4dd2f2-24af-4778-b918-6cfc6cf9f91e",
   "metadata": {},
   "outputs": [],
   "source": [
    "losses, media = tr._train_epoch()"
   ]
  },
  {
   "cell_type": "code",
   "execution_count": null,
   "id": "0e3f82a6-3f0c-494f-940f-2e444b1afc37",
   "metadata": {},
   "outputs": [],
   "source": [
    "losses"
   ]
  },
  {
   "cell_type": "code",
   "execution_count": null,
   "id": "6883c3d1-70ec-4a15-8a27-cdab106af8d0",
   "metadata": {},
   "outputs": [],
   "source": [
    "from matplotlib import pyplot as plt"
   ]
  },
  {
   "cell_type": "code",
   "execution_count": null,
   "id": "1abadc24-2a2b-4643-ad54-fd3a1425f2ce",
   "metadata": {},
   "outputs": [],
   "source": [
    "plt.plot(losses)"
   ]
  },
  {
   "cell_type": "code",
   "execution_count": null,
   "id": "d030b5c6-a999-4b84-aa1c-16fad0b4820b",
   "metadata": {},
   "outputs": [],
   "source": []
  }
 ],
 "metadata": {
  "kernelspec": {
   "display_name": "Python 3 (ipykernel)",
   "language": "python",
   "name": "python3"
  },
  "language_info": {
   "codemirror_mode": {
    "name": "ipython",
    "version": 3
   },
   "file_extension": ".py",
   "mimetype": "text/x-python",
   "name": "python",
   "nbconvert_exporter": "python",
   "pygments_lexer": "ipython3",
   "version": "3.8.10"
  }
 },
 "nbformat": 4,
 "nbformat_minor": 5
}
