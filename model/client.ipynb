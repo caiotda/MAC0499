{
 "cells": [
  {
   "cell_type": "markdown",
   "id": "89390d63-bf24-48f0-9cc0-54df3c5f1367",
   "metadata": {},
   "source": [
    "# Notebook de cliente"
   ]
  },
  {
   "cell_type": "code",
   "execution_count": null,
   "id": "0213afb0-1e79-4fff-88e0-1299b29924da",
   "metadata": {},
   "outputs": [],
   "source": [
    "from datasets import load_dataset\n",
    "from model import NERClassifier\n",
    "from preprocess_dataset import NERDataset \n",
    "from trainner import Trainner\n",
    "from transformers import BertTokenizer\n",
    "from preprocess_dataset import remove_empty_entries\n",
    "\n",
    "import torch"
   ]
  },
  {
   "cell_type": "markdown",
   "id": "d04d0198-4103-4d77-b5a5-d76616a844bf",
   "metadata": {},
   "source": [
    "## Setups"
   ]
  },
  {
   "cell_type": "code",
   "execution_count": null,
   "id": "bd363303-49e9-4673-8b3e-de53bcc8869a",
   "metadata": {},
   "outputs": [],
   "source": [
    "CHECKPOINT = 'neuralmind/bert-base-portuguese-cased'\n",
    "tokenizer = BertTokenizer.from_pretrained(CHECKPOINT)"
   ]
  },
  {
   "cell_type": "code",
   "execution_count": null,
   "id": "c89f938e-9f86-4f8c-966f-21a724411c2b",
   "metadata": {},
   "outputs": [],
   "source": [
    "data = \"lener_br\"\n",
    "dataset = load_dataset(data)\n",
    "dataset = remove_empty_entries(dataset)"
   ]
  },
  {
   "cell_type": "code",
   "execution_count": null,
   "id": "b20e8238-f4c0-4063-a393-0e5a6a76e5c4",
   "metadata": {},
   "outputs": [],
   "source": [
    "MAX_LEN = 256\n",
    "n_labels = 13 #TODO: por enquanto hardcodado "
   ]
  },
  {
   "cell_type": "code",
   "execution_count": null,
   "id": "0a3cbc51-32d6-44bf-ba40-90a84cd0189c",
   "metadata": {},
   "outputs": [],
   "source": [
    "pytorch_dataset_train = NERDataset(data=dataset['train'], max_len=MAX_LEN, tokenizer=tokenizer)\n",
    "teste = pytorch_dataset_train[0]"
   ]
  },
  {
   "cell_type": "code",
   "execution_count": null,
   "id": "e5d5a466-5f3e-41c1-a98d-6da21bd8453b",
   "metadata": {},
   "outputs": [],
   "source": [
    "\n",
    "model = NERClassifier(n_labels=n_labels, checkpoint=CHECKPOINT)\n",
    "input_ids = teste['input_ids']\n",
    "attention_mask = teste['attention_mask']\n",
    "labels = teste['targets']"
   ]
  },
  {
   "cell_type": "markdown",
   "id": "639dfd15-a212-498e-835e-5d2a4db979e7",
   "metadata": {},
   "source": []
  },
  {
   "cell_type": "code",
   "execution_count": null,
   "id": "8d27750a-e9a3-428f-8012-1d8b4d7092dc",
   "metadata": {},
   "outputs": [],
   "source": [
    "type(dataset)"
   ]
  },
  {
   "cell_type": "code",
   "execution_count": null,
   "id": "f5c07886-acdf-4186-99ea-a0698bdb912a",
   "metadata": {},
   "outputs": [],
   "source": []
  },
  {
   "cell_type": "code",
   "execution_count": null,
   "id": "e7ee3245-7c6e-409e-b7eb-c4e70d2b5171",
   "metadata": {},
   "outputs": [],
   "source": []
  },
  {
   "cell_type": "code",
   "execution_count": null,
   "id": "d5189693-79c5-43c3-9cbe-009d2221d4b7",
   "metadata": {},
   "outputs": [],
   "source": [
    "# dataset = remove_empty_entries(dataset)"
   ]
  },
  {
   "cell_type": "code",
   "execution_count": null,
   "id": "7b199353-8558-4d69-9001-dc54291f2921",
   "metadata": {},
   "outputs": [],
   "source": [
    "dataset"
   ]
  },
  {
   "cell_type": "code",
   "execution_count": null,
   "id": "1a4c3c17-ae0e-4213-83f6-f43ea756ec02",
   "metadata": {},
   "outputs": [],
   "source": [
    "max_vals = [torch.max(val['targets']) for val in pytorch_dataset_train]"
   ]
  },
  {
   "cell_type": "code",
   "execution_count": null,
   "id": "61ca0bdf-294e-41a8-aede-2d07f916e537",
   "metadata": {},
   "outputs": [],
   "source": [
    "interval = (min(max_vals).item(), max(max_vals).item())"
   ]
  },
  {
   "cell_type": "code",
   "execution_count": null,
   "id": "4eb6090f-11b2-4f5b-bc76-39e96bb43904",
   "metadata": {},
   "outputs": [],
   "source": [
    "interval"
   ]
  },
  {
   "cell_type": "markdown",
   "id": "1ddd448b-47e5-4bdc-b816-bf7d04f6f646",
   "metadata": {},
   "source": [
    "----------------------------------------"
   ]
  },
  {
   "cell_type": "markdown",
   "id": "6ceab436-a34f-4736-8796-2a9b15eff4dc",
   "metadata": {},
   "source": [
    "## Treinando o modelo\n",
    "\n",
    "Usando parametros padrão por enquanto só pra ver se ta tudo indo certindo"
   ]
  },
  {
   "cell_type": "code",
   "execution_count": null,
   "id": "0914c77b-85a9-420e-b176-5ba779db60c7",
   "metadata": {},
   "outputs": [],
   "source": [
    "from trainner import Trainner, create_data_loader\n",
    "from transformers import AdamW\n",
    "from torch.utils.data import DataLoader"
   ]
  },
  {
   "cell_type": "markdown",
   "id": "02601ad0-e5e3-4cf8-9590-376f093eda3e",
   "metadata": {},
   "source": [
    "### Parametros\n",
    "\n",
    "\n",
    "* batch sizes: 8, 16, 32, 64, 128\n",
    "* learning rates: 3e-4, 1e-4, 5e-5, 3e-5\n",
    "\n",
    "Do paper do BERT. Vou colocar num_workers = 4 por enquanto.\n"
   ]
  },
  {
   "cell_type": "markdown",
   "id": "5ce1dd58-1595-426d-b99f-2217479c4a66",
   "metadata": {},
   "source": [
    "Uma melhoria é esconder o data_loader de clientes. Isso é detalhe de implementaçãõ, ou deveria estar na classe NERDataset"
   ]
  },
  {
   "cell_type": "code",
   "execution_count": null,
   "id": "fa9f1459-1272-4515-800b-dac39bd7c8be",
   "metadata": {},
   "outputs": [],
   "source": [
    "optimizer = AdamW(model.parameters(), lr=3e-4, correct_bias=False)"
   ]
  },
  {
   "cell_type": "code",
   "execution_count": null,
   "id": "358e4323-0b20-41cc-b99e-6cf919520f6a",
   "metadata": {},
   "outputs": [],
   "source": [
    "len(pytorch_dataset_train)"
   ]
  },
  {
   "cell_type": "code",
   "execution_count": null,
   "id": "c793179b-78ac-4be4-83c9-f2a9026202ea",
   "metadata": {},
   "outputs": [],
   "source": [
    "loader = DataLoader(pytorch_dataset_train, batch_size=8)"
   ]
  },
  {
   "cell_type": "code",
   "execution_count": null,
   "id": "dac00bb0-5854-41f8-a14a-ba7b178facc6",
   "metadata": {},
   "outputs": [],
   "source": [
    "device = torch.device(\"cuda\" if torch.cuda.is_available() else \"cpu\")"
   ]
  },
  {
   "cell_type": "code",
   "execution_count": null,
   "id": "87ddcc80-c1bf-49fa-9464-496ec1aa0c34",
   "metadata": {},
   "outputs": [],
   "source": [
    "next(model.parameters()).is_cuda"
   ]
  },
  {
   "cell_type": "code",
   "execution_count": null,
   "id": "f771a8fe-dcbb-4a0e-9348-a66ff3a7aaf8",
   "metadata": {},
   "outputs": [],
   "source": [
    "tr = Trainner(device, loader, model, optimizer)"
   ]
  },
  {
   "cell_type": "code",
   "execution_count": null,
   "id": "ea4dd2f2-24af-4778-b918-6cfc6cf9f91e",
   "metadata": {},
   "outputs": [],
   "source": [
    "losses, media = tr._train_epoch()"
   ]
  },
  {
   "cell_type": "code",
   "execution_count": null,
   "id": "0e3f82a6-3f0c-494f-940f-2e444b1afc37",
   "metadata": {},
   "outputs": [],
   "source": [
    "losses"
   ]
  },
  {
   "cell_type": "code",
   "execution_count": null,
   "id": "6883c3d1-70ec-4a15-8a27-cdab106af8d0",
   "metadata": {},
   "outputs": [],
   "source": [
    "from matplotlib import pyplot as plt"
   ]
  },
  {
   "cell_type": "code",
   "execution_count": null,
   "id": "1abadc24-2a2b-4643-ad54-fd3a1425f2ce",
   "metadata": {},
   "outputs": [],
   "source": [
    "plt.plot(losses)"
   ]
  },
  {
   "cell_type": "code",
   "execution_count": null,
   "id": "d030b5c6-a999-4b84-aa1c-16fad0b4820b",
   "metadata": {},
   "outputs": [],
   "source": []
  }
 ],
 "metadata": {
  "kernelspec": {
   "display_name": "Python 3 (ipykernel)",
   "language": "python",
   "name": "python3"
  },
  "language_info": {
   "codemirror_mode": {
    "name": "ipython",
    "version": 3
   },
   "file_extension": ".py",
   "mimetype": "text/x-python",
   "name": "python",
   "nbconvert_exporter": "python",
   "pygments_lexer": "ipython3",
   "version": "3.8.10"
  }
 },
 "nbformat": 4,
 "nbformat_minor": 5
}
