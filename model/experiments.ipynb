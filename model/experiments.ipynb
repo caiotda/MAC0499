{
 "cells": [
  {
   "cell_type": "code",
   "execution_count": null,
   "id": "4c675e6b-9947-406e-afc9-1403cc8f2ce9",
   "metadata": {},
   "outputs": [],
   "source": [
    "from datasets import load_dataset\n",
    "from model import NERClassifier\n",
    "from preprocess_dataset import NERDataset \n",
    "from trainner import Trainner\n",
    "from transformers import BertTokenizer\n",
    "from preprocess_dataset import remove_empty_entries\n",
    "\n",
    "import torch"
   ]
  },
  {
   "cell_type": "markdown",
   "id": "e0063714-ca94-4e5a-b184-feed9ce6393c",
   "metadata": {},
   "source": [
    "## Setups"
   ]
  },
  {
   "cell_type": "code",
   "execution_count": null,
   "id": "4fbd5917-fb1f-4139-bc8c-4a9d7f951f1f",
   "metadata": {},
   "outputs": [],
   "source": [
    "CHECKPOINT = 'neuralmind/bert-base-portuguese-cased'\n",
    "tokenizer = BertTokenizer.from_pretrained(CHECKPOINT)"
   ]
  },
  {
   "cell_type": "code",
   "execution_count": null,
   "id": "d45cf5e0-b20b-4365-ae70-914a3800dc03",
   "metadata": {},
   "outputs": [],
   "source": [
    "data = \"lener_br\"\n",
    "dataset = load_dataset(data)\n",
    "dataset = remove_empty_entries(dataset)"
   ]
  },
  {
   "cell_type": "code",
   "execution_count": null,
   "id": "12e194ef-71f6-457c-9733-cedb29da3848",
   "metadata": {},
   "outputs": [],
   "source": [
    "MAX_LEN = 256\n",
    "n_labels = 13 #TODO: por enquanto hardcodado "
   ]
  },
  {
   "cell_type": "code",
   "execution_count": null,
   "id": "ce3ad90c-8718-47fb-8996-baac4400a532",
   "metadata": {},
   "outputs": [],
   "source": [
    "pytorch_dataset_train = NERDataset(data=dataset['train'], max_len=MAX_LEN, tokenizer=tokenizer)\n",
    "teste = pytorch_dataset_train[0]"
   ]
  },
  {
   "cell_type": "code",
   "execution_count": null,
   "id": "faeee90f-504f-43cf-894f-d61eed0957c5",
   "metadata": {},
   "outputs": [],
   "source": [
    "model = NERClassifier(n_labels=n_labels, checkpoint=CHECKPOINT)"
   ]
  },
  {
   "cell_type": "markdown",
   "id": "b11e8bd8-0b61-4b0c-b535-205c328bad44",
   "metadata": {},
   "source": [
    "## Passando dados pelo modelo"
   ]
  },
  {
   "cell_type": "code",
   "execution_count": null,
   "id": "853615a9-5db0-4ab8-8ca1-103616aef92c",
   "metadata": {},
   "outputs": [],
   "source": [
    "input_ids = teste['input_ids']\n",
    "attention_mask = teste['attention_mask']\n",
    "labels = teste['targets']"
   ]
  },
  {
   "cell_type": "code",
   "execution_count": null,
   "id": "cfdada2f-6ab4-4063-8508-282b6aca4aad",
   "metadata": {},
   "outputs": [],
   "source": [
    "out = model(input_ids, attention_mask, labels=labels)"
   ]
  },
  {
   "cell_type": "code",
   "execution_count": null,
   "id": "a8ee9c1d-b8e9-4e36-87e9-c0b8bd9f1319",
   "metadata": {},
   "outputs": [],
   "source": [
    "print(out)"
   ]
  },
  {
   "cell_type": "markdown",
   "id": "f72a85c4-1bd2-4eb9-a307-95315328500d",
   "metadata": {},
   "source": [
    "## Explorando um pouco o dataset"
   ]
  },
  {
   "cell_type": "code",
   "execution_count": null,
   "id": "8be0a4a5-d17c-4419-856f-e2ff1b87d554",
   "metadata": {},
   "outputs": [],
   "source": [
    "type(dataset)"
   ]
  },
  {
   "cell_type": "code",
   "execution_count": null,
   "id": "ab585279-0962-4b2d-af1a-8d0405ea0980",
   "metadata": {},
   "outputs": [],
   "source": [
    "dataset"
   ]
  },
  {
   "cell_type": "code",
   "execution_count": null,
   "id": "bd3e44a2-2a59-4a80-9af3-b0cbd669b10f",
   "metadata": {},
   "outputs": [],
   "source": [
    "max_vals = [torch.max(val['targets']) for val in pytorch_dataset_train]"
   ]
  },
  {
   "cell_type": "code",
   "execution_count": null,
   "id": "aca487f0-d54e-4f10-a230-0a255c130c9f",
   "metadata": {
    "tags": []
   },
   "outputs": [],
   "source": [
    "interval = (min(max_vals).item(), max(max_vals).item()"
   ]
  },
  {
   "cell_type": "markdown",
   "id": "75443441-7676-4a10-9128-c10ebc290e64",
   "metadata": {},
   "source": [
    "## Testando o DataLoader"
   ]
  },
  {
   "cell_type": "code",
   "execution_count": null,
   "id": "a2b2ad73-2e7a-4aa2-830e-f03554944ccc",
   "metadata": {},
   "outputs": [],
   "source": [
    "from torch.utils.data import DataLoader"
   ]
  },
  {
   "cell_type": "code",
   "execution_count": null,
   "id": "20fa6fef-50c3-40eb-a26c-54b5b50de8f0",
   "metadata": {},
   "outputs": [],
   "source": [
    "batch_size = 8"
   ]
  },
  {
   "cell_type": "code",
   "execution_count": null,
   "id": "d2f938f5-1a09-4b8c-9e51-2cd359a6aea6",
   "metadata": {},
   "outputs": [],
   "source": [
    "pytorch_dataset_train"
   ]
  },
  {
   "cell_type": "code",
   "execution_count": null,
   "id": "6078282a-9e26-455e-95bf-c817bc64da35",
   "metadata": {},
   "outputs": [],
   "source": [
    "teste = iter(DataLoader(pytorch_dataset_train ,batch_size=batch_size))"
   ]
  },
  {
   "cell_type": "code",
   "execution_count": null,
   "id": "e18bdf03-6ba6-46de-a2cc-cc700ef82034",
   "metadata": {},
   "outputs": [],
   "source": [
    "mini_batch = next(teste)"
   ]
  },
  {
   "cell_type": "markdown",
   "id": "88d8ac7d-b739-4c7b-a565-9e0fb6013d65",
   "metadata": {},
   "source": [
    "## Passando dados pelo modelo em batch"
   ]
  },
  {
   "cell_type": "code",
   "execution_count": null,
   "id": "cb2b6a2a-40b5-49c1-9aa0-4dea5f0e2e08",
   "metadata": {},
   "outputs": [],
   "source": [
    "ids = mini_batch['input_ids'].squeeze().to(\"cuda\", dtype = torch.long) # Remove a dimensão 1 ali do meio, talvez funcione?\n",
    "att = mini_batch['attention_mask'].to(\"cuda\", dtype = torch.long)\n",
    "targets = mini_batch['targets'].to(\"cuda\", dtype = torch.long)"
   ]
  },
  {
   "cell_type": "code",
   "execution_count": null,
   "id": "0cacffbb-9cb8-472e-b5d1-db0a7040679b",
   "metadata": {},
   "outputs": [],
   "source": [
    "print(ids.shape)"
   ]
  },
  {
   "cell_type": "code",
   "execution_count": null,
   "id": "fd671aa7-fc9a-44ca-8ce2-c376ac886735",
   "metadata": {},
   "outputs": [],
   "source": [
    "model = model.to(\"cuda\")"
   ]
  },
  {
   "cell_type": "code",
   "execution_count": null,
   "id": "468b2c6c-408d-4504-9fdc-8273d03f9077",
   "metadata": {},
   "outputs": [],
   "source": [
    "outs = model(ids, att, labels=targets)"
   ]
  },
  {
   "cell_type": "code",
   "execution_count": null,
   "id": "0d449bd0-f416-4593-99ea-d65cbd2a4bdf",
   "metadata": {},
   "outputs": [],
   "source": [
    "outs"
   ]
  },
  {
   "cell_type": "markdown",
   "id": "fba58ac7-58c9-41ef-a3cc-4ec035a9f08c",
   "metadata": {},
   "source": [
    "## Convertendo predições para etiquetas"
   ]
  },
  {
   "cell_type": "markdown",
   "id": "b5f43003-d705-4224-9562-af79834824ea",
   "metadata": {},
   "source": [
    "Ja vimos como converter um output de batch_size=1 para labels. Agora vamos tentar pra um batch inteiro"
   ]
  },
  {
   "cell_type": "markdown",
   "id": "f20ff8a3-c459-4e2f-b73a-5df13c449af7",
   "metadata": {},
   "source": [
    "### TODO\n",
    "- [ ] Mover a lógica de Sigmoid pra dentro do batch_to_labels"
   ]
  },
  {
   "cell_type": "code",
   "execution_count": null,
   "id": "0824f0ca-8014-4c01-bda5-a34e4cdb7233",
   "metadata": {},
   "outputs": [],
   "source": [
    "from utils import batch_to_labels, preds_to_label_idx"
   ]
  },
  {
   "cell_type": "code",
   "execution_count": null,
   "id": "faf3af1c-f01e-4341-ae72-e263c17c8791",
   "metadata": {},
   "outputs": [],
   "source": [
    "from torch.nn import Sigmoid"
   ]
  },
  {
   "cell_type": "code",
   "execution_count": null,
   "id": "fbfe31c1-b7d9-4891-8c0a-7a87e4e36c98",
   "metadata": {},
   "outputs": [],
   "source": [
    "s = Sigmoid()"
   ]
  },
  {
   "cell_type": "code",
   "execution_count": null,
   "id": "d250e432-79db-4591-890c-b62b3ad03fdc",
   "metadata": {},
   "outputs": [],
   "source": [
    "b_logits = outs.logits\n",
    "probs = s(b_logits)"
   ]
  },
  {
   "cell_type": "code",
   "execution_count": null,
   "id": "01863335-d4a6-436a-9f2e-a477db7d9619",
   "metadata": {},
   "outputs": [],
   "source": [
    "preds_to_label_idx(probs[0])"
   ]
  },
  {
   "cell_type": "code",
   "execution_count": null,
   "id": "0fda3cb5-7383-4a5f-bfd2-6bf112724d87",
   "metadata": {
    "tags": []
   },
   "outputs": [],
   "source": [
    "outputs = batch_to_labels(b_logits)"
   ]
  },
  {
   "cell_type": "code",
   "execution_count": null,
   "id": "e0b539c5-122a-4151-844a-e1020cb2b8f9",
   "metadata": {},
   "outputs": [],
   "source": [
    "outputs"
   ]
  },
  {
   "cell_type": "code",
   "execution_count": null,
   "id": "c837dfed-2d7e-426b-bd8e-92657ff6fb4a",
   "metadata": {},
   "outputs": [],
   "source": []
  }
 ],
 "metadata": {
  "kernelspec": {
   "display_name": "Python 3 (ipykernel)",
   "language": "python",
   "name": "python3"
  },
  "language_info": {
   "codemirror_mode": {
    "name": "ipython",
    "version": 3
   },
   "file_extension": ".py",
   "mimetype": "text/x-python",
   "name": "python",
   "nbconvert_exporter": "python",
   "pygments_lexer": "ipython3",
   "version": "3.8.10"
  }
 },
 "nbformat": 4,
 "nbformat_minor": 5
}
