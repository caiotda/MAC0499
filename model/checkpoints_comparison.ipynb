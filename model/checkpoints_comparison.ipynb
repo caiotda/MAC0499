{
 "cells": [
  {
   "cell_type": "code",
   "execution_count": 20,
   "id": "be2ff45e-7bfc-49c0-9e5d-ecdb5e6c698c",
   "metadata": {},
   "outputs": [],
   "source": [
    "from datasets import load_dataset\n",
    "from model import NERClassifier\n",
    "from preprocess_dataset import NERDataset \n",
    "from trainner import Trainner\n",
    "from transformers import BertTokenizerFast\n",
    "from preprocess_dataset import remove_empty_entries\n",
    "\n",
    "import numpy as np\n",
    "import torch"
   ]
  },
  {
   "cell_type": "markdown",
   "id": "278b8d62-1209-44cf-af79-0245484a09d5",
   "metadata": {},
   "source": [
    "## Checkpoints to be used"
   ]
  },
  {
   "cell_type": "code",
   "execution_count": 15,
   "id": "055f8e3f-1de3-476c-8b0b-8facfbccbe6f",
   "metadata": {},
   "outputs": [],
   "source": [
    "pt_base_cased    = 'neuralmind/bert-base-portuguese-cased'\n",
    "pt_large_cased   = 'neuralmind/bert-large-portuguese-cased'\n",
    "pt_base_uncased  = 'neuralmind/bert-base-portuguese-uncased'\n",
    "pt_large_uncased = 'neuralmind/bert-large-portuguese-uncased'\n",
    "en_base_uncased = 'bert-base-uncased'\n",
    "en_large_uncased = 'bert-large-uncased'\n",
    "en_base_cased = 'bert-base-cased'\n",
    "en_large_cased = 'bert-large-cased'\n",
    "\n",
    "pt = [pt_base_cased, pt_large_cased, pt_base_uncased, pt_large_uncased]\n",
    "en = [en_base_cased, en_large_cased, en_base_uncased, en_large_uncased]\n",
    "cased = [pt_base_case, en_base_case, pt_large_case, en_large_case]\n",
    "uncased = [en_base_uncased, en_large_uncased, pt_base_uncased, pt_large_uncased] "
   ]
  },
  {
   "cell_type": "code",
   "execution_count": 31,
   "id": "251fd139-3807-4ea0-b50b-5669bb794bca",
   "metadata": {},
   "outputs": [],
   "source": [
    "models = [pt, en, cased, uncased]"
   ]
  },
  {
   "cell_type": "code",
   "execution_count": 34,
   "id": "04d2acaf-2d08-485a-b7d9-3d2d29eb7bdb",
   "metadata": {},
   "outputs": [],
   "source": [
    "flat_models = [check for checkpoints in models for check in checkpoints]"
   ]
  },
  {
   "cell_type": "code",
   "execution_count": 35,
   "id": "71a9bd00-2351-42bf-b513-2f205a5ef25c",
   "metadata": {},
   "outputs": [
    {
     "data": {
      "text/plain": [
       "['neuralmind/bert-base-portuguese-cased',\n",
       " 'neuralmind/bert-large-portuguese-cased',\n",
       " 'neuralmind/bert-base-portuguese-uncased',\n",
       " 'neuralmind/bert-large-portuguese-uncased',\n",
       " 'bert-base-cased',\n",
       " 'bert-large-cased',\n",
       " 'bert-base-uncased',\n",
       " 'bert-large-uncased',\n",
       " 'neuralmind/bert-base-portuguese-cased',\n",
       " 'bert-base-cased',\n",
       " 'neuralmind/bert-large-portuguese-cased',\n",
       " 'bert-large-cased',\n",
       " 'bert-base-uncased',\n",
       " 'bert-large-uncased',\n",
       " 'neuralmind/bert-base-portuguese-uncased',\n",
       " 'neuralmind/bert-large-portuguese-uncased',\n",
       " 'bert-base-uncased',\n",
       " 'bert-large-uncased',\n",
       " 'neuralmind/bert-base-portuguese-uncased',\n",
       " 'neuralmind/bert-large-portuguese-uncased']"
      ]
     },
     "execution_count": 35,
     "metadata": {},
     "output_type": "execute_result"
    }
   ],
   "source": [
    "flat_models"
   ]
  },
  {
   "cell_type": "markdown",
   "id": "9edd8865-974c-42a1-8f4c-36e38f61fd70",
   "metadata": {},
   "source": [
    "## Dataset"
   ]
  },
  {
   "cell_type": "code",
   "execution_count": 36,
   "id": "7aed8e0c-d15f-4e5d-b19b-848a24b39997",
   "metadata": {},
   "outputs": [
    {
     "name": "stderr",
     "output_type": "stream",
     "text": [
      "Reusing dataset lener_br (/home/caiotulio/.cache/huggingface/datasets/lener_br/lener_br/1.0.0/4a8c97e6813b5c2d85a50faf0a3e6c24ea82f4a9044e6e9e8b24997d27399382)\n",
      "Loading cached processed dataset at /home/caiotulio/.cache/huggingface/datasets/lener_br/lener_br/1.0.0/4a8c97e6813b5c2d85a50faf0a3e6c24ea82f4a9044e6e9e8b24997d27399382/cache-5e59bc59f25f3d7f.arrow\n",
      "Loading cached processed dataset at /home/caiotulio/.cache/huggingface/datasets/lener_br/lener_br/1.0.0/4a8c97e6813b5c2d85a50faf0a3e6c24ea82f4a9044e6e9e8b24997d27399382/cache-8d0457760cd67ee6.arrow\n",
      "Loading cached processed dataset at /home/caiotulio/.cache/huggingface/datasets/lener_br/lener_br/1.0.0/4a8c97e6813b5c2d85a50faf0a3e6c24ea82f4a9044e6e9e8b24997d27399382/cache-74e841c1c151996a.arrow\n"
     ]
    }
   ],
   "source": [
    "data = \"lener_br\"\n",
    "dataset = load_dataset(data)\n",
    "dataset = remove_empty_entries(dataset)"
   ]
  },
  {
   "cell_type": "markdown",
   "id": "34a32f69-513f-4a31-9276-c97095c2bb39",
   "metadata": {
    "tags": []
   },
   "source": [
    "## Hyperparameters"
   ]
  },
  {
   "cell_type": "code",
   "execution_count": 40,
   "id": "68817378-4e18-4cd3-82fd-e182148bbb5d",
   "metadata": {},
   "outputs": [],
   "source": [
    "MAX_LEN = 128\n",
    "LEARNING_RATE=3e-4\n",
    "n_labels = 13\n",
    "BATCH_SIZE=8\n",
    "shuffle=True\n",
    "NUM_EPOCHS=1\n",
    "device=torch.device(\"cuda\" if torch.cuda.is_available() else \"cpu\")"
   ]
  }
 ],
 "metadata": {
  "kernelspec": {
   "display_name": "Python 3 (ipykernel)",
   "language": "python",
   "name": "python3"
  },
  "language_info": {
   "codemirror_mode": {
    "name": "ipython",
    "version": 3
   },
   "file_extension": ".py",
   "mimetype": "text/x-python",
   "name": "python",
   "nbconvert_exporter": "python",
   "pygments_lexer": "ipython3",
   "version": "3.8.10"
  }
 },
 "nbformat": 4,
 "nbformat_minor": 5
}
