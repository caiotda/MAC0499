{
 "cells": [
  {
   "cell_type": "markdown",
   "id": "fcbba297-cfb1-4518-aa12-895fedbb4854",
   "metadata": {},
   "source": [
    "## Loading Libs"
   ]
  },
  {
   "cell_type": "code",
   "execution_count": 1,
   "id": "38b37bf4-fcf0-42a4-aace-0153642da772",
   "metadata": {},
   "outputs": [],
   "source": [
    "import transformers\n",
    "\n",
    "from transformers import BertForTokenClassification, BertTokenizer\n",
    "import torch\n",
    "import numpy as np"
   ]
  },
  {
   "cell_type": "markdown",
   "id": "bae19fad-067d-43ed-a777-7c3115f1afd0",
   "metadata": {},
   "source": [
    "## Loading dataset"
   ]
  },
  {
   "cell_type": "code",
   "execution_count": 2,
   "id": "a5caec44-3ed1-4e22-8f10-c18a3f784cf3",
   "metadata": {},
   "outputs": [
    {
     "name": "stderr",
     "output_type": "stream",
     "text": [
      "Reusing dataset lener_br (/home/caiotulio/.cache/huggingface/datasets/lener_br/lener_br/1.0.0/4a8c97e6813b5c2d85a50faf0a3e6c24ea82f4a9044e6e9e8b24997d27399382)\n"
     ]
    }
   ],
   "source": [
    "from datasets import load_dataset\n",
    "\n",
    "dataset = load_dataset(\"lener_br\")"
   ]
  },
  {
   "cell_type": "code",
   "execution_count": 3,
   "id": "2b90b084-c0c6-40c7-b66e-ffff7dd0b94a",
   "metadata": {},
   "outputs": [
    {
     "data": {
      "text/plain": [
       "{'id': '0',\n",
       " 'ner_tags': [0,\n",
       "  0,\n",
       "  0,\n",
       "  11,\n",
       "  12,\n",
       "  0,\n",
       "  1,\n",
       "  0,\n",
       "  3,\n",
       "  4,\n",
       "  11,\n",
       "  12,\n",
       "  0,\n",
       "  0,\n",
       "  0,\n",
       "  0,\n",
       "  0,\n",
       "  0,\n",
       "  0,\n",
       "  0,\n",
       "  0,\n",
       "  0,\n",
       "  0,\n",
       "  0,\n",
       "  0,\n",
       "  5,\n",
       "  0,\n",
       "  0,\n",
       "  0,\n",
       "  0,\n",
       "  0,\n",
       "  0,\n",
       "  0,\n",
       "  0,\n",
       "  0,\n",
       "  3,\n",
       "  4,\n",
       "  0],\n",
       " 'tokens': ['Número',\n",
       "  'do',\n",
       "  'Acórdão',\n",
       "  'ACÓRDÃO',\n",
       "  '1160/2016',\n",
       "  '-',\n",
       "  'PLENÁRIO',\n",
       "  'Relator',\n",
       "  'AUGUSTO',\n",
       "  'NARDES',\n",
       "  'Processo',\n",
       "  '006.010/2000-4',\n",
       "  'Tipo',\n",
       "  'de',\n",
       "  'processo',\n",
       "  'TOMADA',\n",
       "  'DE',\n",
       "  'CONTAS',\n",
       "  'SIMPLIFICADA',\n",
       "  '(',\n",
       "  'TCSP',\n",
       "  ')',\n",
       "  'Data',\n",
       "  'da',\n",
       "  'sessão',\n",
       "  '11/05/2016',\n",
       "  'Número',\n",
       "  'da',\n",
       "  'ata',\n",
       "  '16/2016',\n",
       "  'Relator',\n",
       "  'da',\n",
       "  'deliberação',\n",
       "  'recorrida',\n",
       "  'Ministra',\n",
       "  'Ana',\n",
       "  'Arraes',\n",
       "  '.']}"
      ]
     },
     "execution_count": 3,
     "metadata": {},
     "output_type": "execute_result"
    }
   ],
   "source": [
    "dataset['test'][0]"
   ]
  },
  {
   "cell_type": "code",
   "execution_count": 4,
   "id": "470fa702-6131-4069-9a4b-9de232aea973",
   "metadata": {},
   "outputs": [],
   "source": [
    "NER_tags = [\"O\", \"B-ORGANIZACAO\", \"I-ORGANIZACAO\", \"B-PESSOA\", \"I-PESSOA\", \"B-TEMPO\", \"I-TEMPO\", \"B-LOCAL\", \"I-LOCAL\", \"B-LEGISLACAO\", \"I-LEGISLACAO\", \"B-JURISPRUDENCIA\", \"I-JURISPRUDENCIA\"]\n",
    "num_labels = len(NER_tags)"
   ]
  },
  {
   "cell_type": "markdown",
   "id": "06622ce3-6839-4b7b-bbff-241e36694fda",
   "metadata": {},
   "source": [
    "## Loading model checkpoint for tokenizer and for model weight initialization"
   ]
  },
  {
   "cell_type": "code",
   "execution_count": 5,
   "id": "f0ea0cc9-1004-47e6-91fd-2a248a417afb",
   "metadata": {},
   "outputs": [],
   "source": [
    "PRE_TRAINED_MODEL = 'neuralmind/bert-base-portuguese-cased'"
   ]
  },
  {
   "cell_type": "code",
   "execution_count": 6,
   "id": "e3ef4266-7570-4bec-a3a7-8166a8291231",
   "metadata": {},
   "outputs": [],
   "source": [
    "tokenizer = BertTokenizer.from_pretrained(PRE_TRAINED_MODEL)"
   ]
  },
  {
   "cell_type": "code",
   "execution_count": 7,
   "id": "49b42589-7fb9-4b3c-9a5a-d16c73af34e7",
   "metadata": {},
   "outputs": [
    {
     "name": "stderr",
     "output_type": "stream",
     "text": [
      "Some weights of the model checkpoint at neuralmind/bert-base-portuguese-cased were not used when initializing BertForTokenClassification: ['cls.seq_relationship.weight', 'cls.predictions.decoder.weight', 'cls.predictions.transform.LayerNorm.bias', 'cls.predictions.transform.LayerNorm.weight', 'cls.predictions.transform.dense.bias', 'cls.predictions.transform.dense.weight', 'cls.seq_relationship.bias', 'cls.predictions.bias']\n",
      "- This IS expected if you are initializing BertForTokenClassification from the checkpoint of a model trained on another task or with another architecture (e.g. initializing a BertForSequenceClassification model from a BertForPreTraining model).\n",
      "- This IS NOT expected if you are initializing BertForTokenClassification from the checkpoint of a model that you expect to be exactly identical (initializing a BertForSequenceClassification model from a BertForSequenceClassification model).\n",
      "Some weights of BertForTokenClassification were not initialized from the model checkpoint at neuralmind/bert-base-portuguese-cased and are newly initialized: ['classifier.bias', 'classifier.weight']\n",
      "You should probably TRAIN this model on a down-stream task to be able to use it for predictions and inference.\n"
     ]
    }
   ],
   "source": [
    "model = BertForTokenClassification.from_pretrained(\n",
    "    PRE_TRAINED_MODEL,\n",
    "    num_labels=num_labels,\n",
    ")"
   ]
  },
  {
   "cell_type": "code",
   "execution_count": 8,
   "id": "4f403a0f-4de0-4b30-99c7-bf40bf0bb9ff",
   "metadata": {},
   "outputs": [
    {
     "data": {
      "text/plain": [
       "13"
      ]
     },
     "execution_count": 8,
     "metadata": {},
     "output_type": "execute_result"
    }
   ],
   "source": [
    "model.num_labels"
   ]
  },
  {
   "cell_type": "markdown",
   "id": "9d62d089-c544-4e80-9614-259be1093612",
   "metadata": {},
   "source": [
    "# Data exploration"
   ]
  },
  {
   "cell_type": "code",
   "execution_count": 13,
   "id": "d1fb1ae1-d8b7-47b7-a382-d9435298ca26",
   "metadata": {},
   "outputs": [],
   "source": [
    "import seaborn as sns\n",
    "import matplotlib.pyplot as plt\n",
    "from pylab import rcParams\n",
    "\n",
    "from matplotlib import rc"
   ]
  },
  {
   "cell_type": "code",
   "execution_count": 14,
   "id": "1b6c42d9-bca6-458a-bd3c-d87266ed6ede",
   "metadata": {},
   "outputs": [
    {
     "data": {
      "text/plain": [
       "<torch._C.Generator at 0x7f5ffc8826f0>"
      ]
     },
     "execution_count": 14,
     "metadata": {},
     "output_type": "execute_result"
    }
   ],
   "source": [
    "sns.set(style='whitegrid', palette='muted', font_scale=1.2)\n",
    "\n",
    "HAPPY_COLORS_PALETTE = [\"#01BEFE\", \"#FFDD00\", \"#FF7D00\", \"#FF006D\", \"#ADFF02\", \"#8F00FF\"]\n",
    "\n",
    "sns.set_palette(sns.color_palette(HAPPY_COLORS_PALETTE))\n",
    "\n",
    "rcParams['figure.figsize'] = 12, 8\n",
    "\n",
    "RANDOM_SEED = 42\n",
    "\n",
    "np.random.seed(RANDOM_SEED)\n",
    "\n",
    "torch.manual_seed(RANDOM_SEED)"
   ]
  },
  {
   "cell_type": "markdown",
   "id": "b870c6ab-fb9f-4e03-af5d-0cd1af5776e6",
   "metadata": {},
   "source": [
    "## Analysing number of labels"
   ]
  },
  {
   "cell_type": "code",
   "execution_count": 40,
   "id": "34ba8a33-798d-41bb-b0d4-be48cd62b11e",
   "metadata": {},
   "outputs": [],
   "source": [
    "tags = np.concatenate(dataset['train'][:]['ner_tags'])"
   ]
  },
  {
   "cell_type": "code",
   "execution_count": 51,
   "id": "ebbafb24-af1d-47b2-bc32-3cdcc6047eea",
   "metadata": {},
   "outputs": [
    {
     "name": "stderr",
     "output_type": "stream",
     "text": [
      "/home/caiotulio/.local/lib/python3.8/site-packages/seaborn/_decorators.py:36: FutureWarning: Pass the following variable as a keyword arg: x. From version 0.12, the only valid positional argument will be `data`, and passing other arguments without an explicit keyword will result in an error or misinterpretation.\n",
      "  warnings.warn(\n"
     ]
    },
    {
     "data": {
      "text/plain": [
       "<matplotlib.axes._subplots.AxesSubplot at 0x7f5f38fc7a30>"
      ]
     },
     "execution_count": 51,
     "metadata": {},
     "output_type": "execute_result"
    },
    {
     "data": {
      "image/png": "[encoded data removed]",
      "text/plain": [
       "<Figure size 864x576 with 1 Axes>"
      ]
     },
     "metadata": {},
     "output_type": "display_data"
    }
   ],
   "source": [
    "sns.countplot(tags)"
   ]
  },
  {
   "cell_type": "code",
   "execution_count": 45,
   "id": "79a9df39-f798-45e9-9867-11c34b33c12c",
   "metadata": {},
   "outputs": [],
   "source": [
    "identified_tags = list(filter(lambda t: t > 0, tags))"
   ]
  },
  {
   "cell_type": "code",
   "execution_count": 52,
   "id": "7af57bcf-877b-40bd-ad9b-46dd496b7e8d",
   "metadata": {},
   "outputs": [
    {
     "name": "stderr",
     "output_type": "stream",
     "text": [
      "/home/caiotulio/.local/lib/python3.8/site-packages/seaborn/_decorators.py:36: FutureWarning: Pass the following variable as a keyword arg: x. From version 0.12, the only valid positional argument will be `data`, and passing other arguments without an explicit keyword will result in an error or misinterpretation.\n",
      "  warnings.warn(\n"
     ]
    },
    {
     "data": {
      "text/plain": [
       "<matplotlib.axes._subplots.AxesSubplot at 0x7f5f38f80760>"
      ]
     },
     "execution_count": 52,
     "metadata": {},
     "output_type": "execute_result"
    },
    {
     "data": {
      "image/png": "[encoded data removed]",
      "text/plain": [
       "<Figure size 864x576 with 1 Axes>"
      ]
     },
     "metadata": {},
     "output_type": "display_data"
    }
   ],
   "source": [
    "sns.countplot(identified_tags)"
   ]
  },
  {
   "cell_type": "markdown",
   "id": "164fbb0e-1e94-4ea8-b0ba-e3199f08312f",
   "metadata": {},
   "source": [
    "## Analysing sentence size"
   ]
  },
  {
   "cell_type": "code",
   "execution_count": 97,
   "id": "82c318ee-5b5b-44e7-bee4-72cb5f352f3b",
   "metadata": {},
   "outputs": [],
   "source": [
    "def get_length(tokens):\n",
    "    return [len(s) for s in tokens]"
   ]
  },
  {
   "cell_type": "code",
   "execution_count": 98,
   "id": "a7866183-550f-43a6-8081-f20e6949ca5e",
   "metadata": {},
   "outputs": [],
   "source": [
    "tokens = dataset['train'][:]['tokens']\n",
    "lengths = get_length(tokens)"
   ]
  },
  {
   "cell_type": "code",
   "execution_count": 83,
   "id": "7f8b1f23-e9f7-4db1-a342-8f3ae1a1d81a",
   "metadata": {},
   "outputs": [],
   "source": [
    "teste = list(filter(lambda l: l > 200,lengths))"
   ]
  },
  {
   "cell_type": "code",
   "execution_count": 144,
   "id": "958a378f-5522-4c8d-acd7-b3b66c358e2a",
   "metadata": {},
   "outputs": [
    {
     "data": {
      "text/plain": [
       "<matplotlib.axes._subplots.AxesSubplot at 0x7f5f288a05e0>"
      ]
     },
     "execution_count": 144,
     "metadata": {},
     "output_type": "execute_result"
    },
    {
     "data": {
      "image/png": "[encoded data removed]",
      "text/plain": [
       "<Figure size 864x576 with 1 Axes>"
      ]
     },
     "metadata": {},
     "output_type": "display_data"
    }
   ],
   "source": [
    "sns.histplot(lengths)"
   ]
  },
  {
   "cell_type": "code",
   "execution_count": 131,
   "id": "b232a53e-0849-477a-9e70-4777cfc4df5e",
   "metadata": {},
   "outputs": [],
   "source": [
    "longer_sentences = list(filter(lambda t: len(t) > 512, tokens)) # Bert maximum sentence size"
   ]
  },
  {
   "cell_type": "code",
   "execution_count": null,
   "id": "cb9f5bd1-99ed-48ff-8a4e-0a5e73402187",
   "metadata": {},
   "outputs": [],
   "source": [
    "\" \".join(longer_sentences[0])"
   ]
  },
  {
   "cell_type": "code",
   "execution_count": 146,
   "id": "e7b8fcf3-83f5-4b65-9dfc-d9c201f21952",
   "metadata": {},
   "outputs": [],
   "source": [
    "TOKEN_SIZE_THRESHOLD = 256"
   ]
  },
  {
   "cell_type": "code",
   "execution_count": 147,
   "id": "c27f7b57-a4f6-4dc8-abc1-3740d9f71f05",
   "metadata": {},
   "outputs": [],
   "source": [
    "def categorize(token):\n",
    "    return 0 if len(token) < TOKEN_SIZE_THRESHOLD else 1"
   ]
  },
  {
   "cell_type": "code",
   "execution_count": 148,
   "id": "bbca84ff-9568-4597-b405-e1774cff0443",
   "metadata": {},
   "outputs": [
    {
     "name": "stdout",
     "output_type": "stream",
     "text": [
      "Tokens menores que 256: 7795; Maiores que 256: 33\n"
     ]
    }
   ],
   "source": [
    "tokens_by_size = list(map(categorize, tokens))\n",
    "larger_than_threshold = np.count_nonzero(tokens_by_size)\n",
    "smaller_than_threshold = len(tokens_by_size) - larger_than_200\n",
    "\n",
    "print(f\"Tokens menores que {TOKEN_SIZE_THRESHOLD}: {smaller_than_200}; Maiores que {TOKEN_SIZE_THRESHOLD}: {larger_than_200}\")"
   ]
  },
  {
   "cell_type": "code",
   "execution_count": 122,
   "id": "7f938cd6-bddf-4d65-81eb-8c45d4680e06",
   "metadata": {},
   "outputs": [
    {
     "name": "stdout",
     "output_type": "stream",
     "text": [
      "A maior sentença tem comprimento 755\n"
     ]
    }
   ],
   "source": [
    "print(f\"A maior sentença tem comprimento {np.max(lengths)}\") "
   ]
  },
  {
   "cell_type": "markdown",
   "id": "a82f2e38-ff29-496b-930d-3ed9a6e553be",
   "metadata": {},
   "source": [
    "A esmagadora maioria das sentenças tem tamanho menor do que 256, acho que dá só pra descartar essas maiores. (analise meio porca, mas enfim)"
   ]
  },
  {
   "cell_type": "markdown",
   "id": "b90b4249-4153-4c1b-adb8-abe917469e02",
   "metadata": {},
   "source": [
    "## Testing out the tokenizer"
   ]
  },
  {
   "cell_type": "code",
   "execution_count": 74,
   "id": "77460e98-a055-4440-89e2-b73c7f66fe5f",
   "metadata": {},
   "outputs": [
    {
     "name": "stdout",
     "output_type": "stream",
     "text": [
      "['Ielton', 'Carvalho', 'Piancó', '(', '13469-E/OAB-DF', ')', 'e', 'outros', ',', 'representando', 'Grupo', 'Ok', 'Construções', 'e', 'Empreendimentos', 'Ltda.', '8.2', '.']\n",
      "[3, 4, 4, 0, 0, 0, 0, 0, 0, 0, 1, 2, 2, 2, 2, 2, 0, 0]\n"
     ]
    }
   ],
   "source": [
    "sample = dataset['test'][10] # numero aleatório\n",
    "sentence = sample['tokens']\n",
    "tags = sample['ner_tags']\n",
    "print(sentence)\n",
    "print(tags)"
   ]
  },
  {
   "cell_type": "code",
   "execution_count": 75,
   "id": "a09c6c9d-0317-4db8-90b6-ac6e086efe80",
   "metadata": {},
   "outputs": [
    {
     "data": {
      "text/plain": [
       "['I',\n",
       " '##el',\n",
       " '##ton',\n",
       " 'Carvalho',\n",
       " 'Pia',\n",
       " '##nc',\n",
       " '##ó',\n",
       " '(',\n",
       " '13',\n",
       " '##46',\n",
       " '##9',\n",
       " '-',\n",
       " 'E',\n",
       " '/',\n",
       " 'O',\n",
       " '##AB',\n",
       " '-',\n",
       " 'D',\n",
       " '##F',\n",
       " ')',\n",
       " 'e',\n",
       " 'outros',\n",
       " ',',\n",
       " 'representando',\n",
       " 'Grupo',\n",
       " 'Ok',\n",
       " 'Constru',\n",
       " '##ções',\n",
       " 'e',\n",
       " 'Emp',\n",
       " '##ree',\n",
       " '##ndimentos',\n",
       " 'Ltda',\n",
       " '.',\n",
       " '8',\n",
       " '.',\n",
       " '2',\n",
       " '.']"
      ]
     },
     "execution_count": 75,
     "metadata": {},
     "output_type": "execute_result"
    }
   ],
   "source": [
    "tokenizer.tokenize(\" \".join(sentence))"
   ]
  },
  {
   "cell_type": "markdown",
   "id": "cd5e7773-ac1b-4d73-b659-d324b4c14ed3",
   "metadata": {},
   "source": [
    "(O output do tokenizer do bertimbau é diferente da tokenização fornecida pelo dataset. O dataset aparentemente fez um tokenização baseado em espaços. Um problema de tokenizar do zero seria lidar com pontuação estranha de texto jurídico)"
   ]
  }
 ],
 "metadata": {
  "kernelspec": {
   "display_name": "Python 3 (ipykernel)",
   "language": "python",
   "name": "python3"
  },
  "language_info": {
   "codemirror_mode": {
    "name": "ipython",
    "version": 3
   },
   "file_extension": ".py",
   "mimetype": "text/x-python",
   "name": "python",
   "nbconvert_exporter": "python",
   "pygments_lexer": "ipython3",
   "version": "3.8.10"
  }
 },
 "nbformat": 4,
 "nbformat_minor": 5
}
